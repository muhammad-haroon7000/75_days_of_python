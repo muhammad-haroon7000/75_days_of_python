{
 "cells": [
  {
   "cell_type": "markdown",
   "id": "2d702100",
   "metadata": {},
   "source": [
    "In python we just create variable with and assgin values. \n",
    "\n",
    "Python interprator will identify by it self it's data types\n"
   ]
  },
  {
   "cell_type": "code",
   "execution_count": null,
   "id": "e3bed0fd",
   "metadata": {},
   "outputs": [],
   "source": [
    "# interger "
   ]
  }
 ],
 "metadata": {
  "kernelspec": {
   "display_name": "Python 3 (ipykernel)",
   "language": "python",
   "name": "python3"
  },
  "language_info": {
   "codemirror_mode": {
    "name": "ipython",
    "version": 3
   },
   "file_extension": ".py",
   "mimetype": "text/x-python",
   "name": "python",
   "nbconvert_exporter": "python",
   "pygments_lexer": "ipython3",
   "version": "3.10.12"
  }
 },
 "nbformat": 4,
 "nbformat_minor": 5
}
