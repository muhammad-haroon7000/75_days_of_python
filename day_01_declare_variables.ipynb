{
 "cells": [
  {
   "cell_type": "markdown",
   "id": "3ac1c111",
   "metadata": {},
   "source": [
    "- In Python, variables are created by assigning values to them. \n",
    "- The Python interpreter automatically determines the data type of each variable."
   ]
  },
  {
   "cell_type": "code",
   "execution_count": 2,
   "id": "558e2a07",
   "metadata": {},
   "outputs": [
    {
     "name": "stdout",
     "output_type": "stream",
     "text": [
      "1234\n",
      "<class 'int'>\n"
     ]
    }
   ],
   "source": [
    "# interger variable in python \n",
    "\n",
    "integer_variable = 1234\n",
    "print(integer_variable)\n",
    "print(type(integer_variable))"
   ]
  },
  {
   "cell_type": "markdown",
   "id": "c00e70b4",
   "metadata": {},
   "source": [
    "You can see it's determine by python interpator . "
   ]
  },
  {
   "cell_type": "code",
   "execution_count": 3,
   "id": "c68dfdf2",
   "metadata": {},
   "outputs": [
    {
     "name": "stdout",
     "output_type": "stream",
     "text": [
      "abc\n",
      "<class 'str'>\n"
     ]
    }
   ],
   "source": [
    "# let's string variable in python\n",
    "\n",
    "string_variable = \"abc\"\n",
    "print(string_variable)\n",
    "print(type(string_variable))"
   ]
  },
  {
   "cell_type": "code",
   "execution_count": 5,
   "id": "21b49d26",
   "metadata": {},
   "outputs": [
    {
     "name": "stdout",
     "output_type": "stream",
     "text": [
      "123.45\n",
      "<class 'float'>\n"
     ]
    }
   ],
   "source": [
    "# let's float or real number in python \n",
    "\n",
    "float_number = 123.45\n",
    "print(float_number)\n",
    "print(type(float_number))"
   ]
  },
  {
   "cell_type": "code",
   "execution_count": 6,
   "id": "eaaca72b",
   "metadata": {},
   "outputs": [
    {
     "name": "stdout",
     "output_type": "stream",
     "text": [
      "True\n",
      "<class 'bool'>\n"
     ]
    }
   ],
   "source": [
    "# boolen variable\n",
    "boolean_variable = True\n",
    "print(boolean_variable)\n",
    "print(type(boolean_variable))"
   ]
  },
  {
   "cell_type": "code",
   "execution_count": 7,
   "id": "2e66b59c",
   "metadata": {},
   "outputs": [
    {
     "name": "stdout",
     "output_type": "stream",
     "text": [
      "[1, 2, 3, 'fourth_variable']\n",
      "<class 'list'>\n"
     ]
    }
   ],
   "source": [
    "# list variable \n",
    "# we see this in details in comming days\n",
    "\n",
    "list_variable = [1,2,3,\"fourth_variable\"]\n",
    "print(list_variable)\n",
    "print(type(list_variable))"
   ]
  },
  {
   "cell_type": "code",
   "execution_count": 9,
   "id": "21e74ae1",
   "metadata": {},
   "outputs": [
    {
     "name": "stdout",
     "output_type": "stream",
     "text": [
      "(1, 2, 3, [1, 2, 3])\n",
      "<class 'tuple'>\n"
     ]
    }
   ],
   "source": [
    "# tuples in python \n",
    "# it's immutable \n",
    "\n",
    "tuple_variable=(1,2,3,[1,2,3])\n",
    "print(tuple_variable)\n",
    "print(type(tuple_variable))"
   ]
  },
  {
   "cell_type": "code",
   "execution_count": 10,
   "id": "ca7bf293",
   "metadata": {},
   "outputs": [
    {
     "name": "stdout",
     "output_type": "stream",
     "text": [
      "{1, 2, 3, 4}\n",
      "<class 'set'>\n"
     ]
    }
   ],
   "source": [
    "# set variable in python \n",
    "set_variable = {1,2,3,4}\n",
    "print(set_variable)\n",
    "print(type(set_variable))"
   ]
  },
  {
   "cell_type": "code",
   "execution_count": 13,
   "id": "39a43d28",
   "metadata": {},
   "outputs": [
    {
     "name": "stdout",
     "output_type": "stream",
     "text": [
      "{'name': 'Haroon', 'age': 25}\n",
      "<class 'dict'>\n"
     ]
    }
   ],
   "source": [
    "# Dictionary in python \n",
    "dictionary_variable = {'name':\"Haroon\", 'age':25}\n",
    "print(dictionary_variable)\n",
    "print(type(dictionary_variable))"
   ]
  },
  {
   "cell_type": "markdown",
   "id": "9d2cca76",
   "metadata": {},
   "source": [
    "- List: Ordered, mutable (elements can be changed after creation).\n",
    "- Tuple: Ordered, immutable (elements cannot be changed after creation, but mutable elements within the tuple can be modified).\n",
    "- Dictionary: Key-value pair data type.\n",
    "- Set: Unordered, contains only unique values (duplicate values are automatically removed)."
   ]
  }
 ],
 "metadata": {
  "kernelspec": {
   "display_name": "Python 3 (ipykernel)",
   "language": "python",
   "name": "python3"
  },
  "language_info": {
   "codemirror_mode": {
    "name": "ipython",
    "version": 3
   },
   "file_extension": ".py",
   "mimetype": "text/x-python",
   "name": "python",
   "nbconvert_exporter": "python",
   "pygments_lexer": "ipython3",
   "version": "3.10.12"
  }
 },
 "nbformat": 4,
 "nbformat_minor": 5
}
