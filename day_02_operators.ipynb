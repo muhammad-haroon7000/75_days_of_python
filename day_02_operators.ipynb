{
 "cells": [
  {
   "cell_type": "markdown",
   "id": "de585ef8",
   "metadata": {},
   "source": [
    "        -------Arithmetic Operators:----------\n",
    "        These perform mathematical calculations.\n",
    "\n",
    " - (Addition = + ): 2 + 3 = 5\n",
    " - (Subtraction = - ): 5 - 2 = 3\n",
    " - (Multiplication = *): 4 * 3 = 12\n",
    " - (Division = / ): 10 / 3 = 3.333... (always returns a float)\n",
    " - (Floor Division = //): 10 // 3 = 3 (returns the integer part of the division)\n",
    " - (Modulo = %): 10 % 3 = 1 (returns the remainder of the division)\n",
    " - (Exponentiation = **): 2 ** 3 = 8 (2 raised to the power of 3)"
   ]
  },
  {
   "cell_type": "code",
   "execution_count": 14,
   "id": "9c452361",
   "metadata": {},
   "outputs": [
    {
     "name": "stdout",
     "output_type": "stream",
     "text": [
      "150\n",
      "50\n",
      "5000\n",
      "2.0\n",
      "2\n",
      "50\n",
      "10000000000000000000000000000000000000000000000000000000000000000000000000000000000000000000000000000\n"
     ]
    }
   ],
   "source": [
    "variable_1 = 100 \n",
    "variable_2 = 50 \n",
    "\n",
    "print(variable_1 + variable_2)\n",
    "print(variable_1 - variable_2)\n",
    "print(variable_1 * variable_2)\n",
    "print(variable_1 / variable_2)\n",
    "print(variable_1 // variable_2)\n",
    "print(variable_2 % variable_1)\n",
    "print(variable_1 ** variable_2)"
   ]
  },
  {
   "cell_type": "markdown",
   "id": "eac173bf",
   "metadata": {},
   "source": [
    "    ---------Assignment Operators:----------\n",
    "        These assign values to variables\n",
    "    \n",
    "\n",
    "- = (Simple assignment): x = 5\n",
    "- += (Add and assign): x += 2 (equivalent to x = x + 2)\n",
    "- -= (Subtract and assign): x -= 3 (equivalent to x = x - 3)\n",
    "- *= (Multiply and assign): x *= 4 (equivalent to x = x * 4)\n",
    "- /= (Divide and assign): x /= 2 (equivalent to x = x / 2)\n",
    "- //= (Floor divide and assign): x //= 3 (equivalent to x = x // 3)\n",
    "- %= (Modulo and assign): x %= 5 (equivalent to x = x % 5)\n",
    "- **= (Exponentiate and assign): x **= 2 (equivalent to x = x ** 2)"
   ]
  },
  {
   "cell_type": "code",
   "execution_count": 13,
   "id": "949a2672",
   "metadata": {},
   "outputs": [
    {
     "name": "stdout",
     "output_type": "stream",
     "text": [
      "10\n",
      "15\n",
      "10\n",
      "50\n",
      "10.0\n",
      "2.0\n",
      "2.0\n",
      "current value is  2.0\n",
      "10.0\n"
     ]
    }
   ],
   "source": [
    "value = 10\n",
    "print(value)\n",
    "\n",
    "value += 5 # value = value + 5\n",
    "print(value)\n",
    "\n",
    "value -= 5 # value = value - 5\n",
    "print(value)\n",
    "\n",
    "value *= 5 # value = value * 5\n",
    "print(value)\n",
    "\n",
    "value /= 5 # value = value / 5\n",
    "print(value)\n",
    "\n",
    "value //= 5 # value = value //  5\n",
    "print(value)\n",
    "\n",
    "\n",
    "value %= 5 # value = value %  5\n",
    "print(value)\n",
    "\n",
    "\n",
    "print(\"current value is \", value)\n",
    "value *= 5 # value = value ** 5 \n",
    "print(value)"
   ]
  },
  {
   "cell_type": "markdown",
   "id": "f37ca8e6",
   "metadata": {},
   "source": [
    "            --------------Comparison Operators:-------------\n",
    "    These compare two values and return a Boolean result (True or False).\n",
    "\n",
    "- == (Equal to): 5 == 5 (True)\n",
    "- \"(!= (Not equal to): 5 != 3 (True))\"\n",
    "    \n",
    "- \" > (Greater than): 5 > 3 (True))\"\n",
    "- \" < (Less than): 3 < 5 (True)\"\n",
    "- \" >= (Greater than or equal to): 5 >= 5 (True)\"\n",
    "- \" <= (Less than or equal to): 3 <= 5 (True)\""
   ]
  },
  {
   "cell_type": "code",
   "execution_count": 19,
   "id": "87ad30f6",
   "metadata": {},
   "outputs": [
    {
     "name": "stdout",
     "output_type": "stream",
     "text": [
      "False\n",
      "True\n",
      "True\n",
      "False\n"
     ]
    }
   ],
   "source": [
    "value = 10 \n",
    "value_2 = 5\n",
    "\n",
    "print(value == value_2) # False\n",
    "print(value != value_2) # True\n",
    "print(value >= value_2) # True\n",
    "print(value <= value_2) # False"
   ]
  },
  {
   "cell_type": "markdown",
   "id": "c0f944dd",
   "metadata": {},
   "source": [
    "               ----------Logical Operators:-------\n",
    "        These perform logical operations on Boolean values\n",
    "\n",
    "- and (Logical AND): True and False (False)\n",
    "- or (Logical OR): True or False (True)\n",
    "- not (Logical NOT): not True (False)"
   ]
  },
  {
   "cell_type": "code",
   "execution_count": 30,
   "id": "5915d11f",
   "metadata": {},
   "outputs": [
    {
     "name": "stdout",
     "output_type": "stream",
     "text": [
      "False\n",
      "True\n"
     ]
    }
   ],
   "source": [
    "value = 10\n",
    "value_2 = 12 \n",
    "\n",
    "print(value < value_2 and value == value_2) # Both condition True then output will True \n",
    "print(value < value_2 or value == value_2) #anyone condition true then output will be True\n"
   ]
  },
  {
   "cell_type": "markdown",
   "id": "109f4939",
   "metadata": {},
   "source": [
    "         -----------Bitwise Operators:----------\n",
    "        These operate on individual bits of integers.\n",
    "\n",
    "- & (Bitwise AND): 5 & 3 (1)\n",
    "- | (Bitwise OR): 5 | 3 (7)\n",
    "- ^ (Bitwise XOR): 5 ^ 3 (6)\n",
    "- ~ (Bitwise NOT): ~5 (-6)\n",
    "- << (Left shift): 5 << 2 (20)\n",
    "- \">> (Right shift): 5 >> 1 (2)\""
   ]
  },
  {
   "cell_type": "code",
   "execution_count": 31,
   "id": "553edee0",
   "metadata": {},
   "outputs": [
    {
     "name": "stdout",
     "output_type": "stream",
     "text": [
      "5 & 3 = 1 (Binary: 0b1)\n",
      "5 | 3 = 7 (Binary: 0b111)\n",
      "5 ^ 3 = 6 (Binary: 0b110)\n",
      "~5 = -6 (Binary: -0b110)\n",
      "5 << 2 = 20 (Binary: 0b10100)\n",
      "5 >> 1 = 2 (Binary: 0b10)\n"
     ]
    }
   ],
   "source": [
    "# Bitwise AND (&)\n",
    "a = 5  # Binary: 0101\n",
    "b = 3  # Binary: 0011\n",
    "result_and = a & b\n",
    "print(f\"{a} & {b} = {result_and} (Binary: {bin(a & b)})\")  # Output: 5 & 3 = 1 (Binary: 0b1)\n",
    "\n",
    "# Bitwise OR (|)\n",
    "a = 5  # Binary: 0101\n",
    "b = 3  # Binary: 0011\n",
    "result_or = a | b\n",
    "print(f\"{a} | {b} = {result_or} (Binary: {bin(a | b)})\")  # Output: 5 | 3 = 7 (Binary: 0b111)\n",
    "\n",
    "# Bitwise XOR (^)\n",
    "a = 5  # Binary: 0101\n",
    "b = 3  # Binary: 0011\n",
    "result_xor = a ^ b\n",
    "print(f\"{a} ^ {b} = {result_xor} (Binary: {bin(a ^ b)})\")  # Output: 5 ^ 3 = 6 (Binary: 0b110)\n",
    "\n",
    "# Bitwise NOT (~)\n",
    "a = 5  # Binary: 0101\n",
    "result_not = ~a\n",
    "print(f\"~{a} = {result_not} (Binary: {bin(result_not)})\")  # Output: ~5 = -6 (Binary: -0b110)\n",
    "\n",
    "# Left Shift (<<)\n",
    "a = 5  # Binary: 0101\n",
    "shift_amount = 2\n",
    "result_left_shift = a << shift_amount\n",
    "print(f\"{a} << {shift_amount} = {result_left_shift} (Binary: {bin(a << shift_amount)})\") # Output: 5 << 2 = 20 (Binary: 0b10100)\n",
    "\n",
    "# Right Shift (>>)\n",
    "a = 5  # Binary: 0101\n",
    "shift_amount = 1\n",
    "result_right_shift = a >> shift_amount\n",
    "print(f\"{a} >> {shift_amount} = {result_right_shift} (Binary: {bin(a >> shift_amount)})\") # Output: 5 >> 1 = 2 (Binary: 0b10)\n"
   ]
  },
  {
   "cell_type": "code",
   "execution_count": null,
   "id": "354c71be",
   "metadata": {},
   "outputs": [],
   "source": []
  },
  {
   "cell_type": "code",
   "execution_count": null,
   "id": "8176d551",
   "metadata": {},
   "outputs": [],
   "source": []
  },
  {
   "cell_type": "code",
   "execution_count": null,
   "id": "b467403e",
   "metadata": {},
   "outputs": [],
   "source": []
  },
  {
   "cell_type": "code",
   "execution_count": null,
   "id": "e972e524",
   "metadata": {},
   "outputs": [],
   "source": []
  },
  {
   "cell_type": "code",
   "execution_count": null,
   "id": "01560b75",
   "metadata": {},
   "outputs": [],
   "source": []
  },
  {
   "cell_type": "code",
   "execution_count": null,
   "id": "4bd9e8d1",
   "metadata": {},
   "outputs": [],
   "source": []
  },
  {
   "cell_type": "code",
   "execution_count": null,
   "id": "5787cd61",
   "metadata": {},
   "outputs": [],
   "source": []
  },
  {
   "cell_type": "code",
   "execution_count": null,
   "id": "3c6e4bc9",
   "metadata": {},
   "outputs": [],
   "source": []
  }
 ],
 "metadata": {
  "kernelspec": {
   "display_name": "Python 3 (ipykernel)",
   "language": "python",
   "name": "python3"
  },
  "language_info": {
   "codemirror_mode": {
    "name": "ipython",
    "version": 3
   },
   "file_extension": ".py",
   "mimetype": "text/x-python",
   "name": "python",
   "nbconvert_exporter": "python",
   "pygments_lexer": "ipython3",
   "version": "3.10.12"
  }
 },
 "nbformat": 4,
 "nbformat_minor": 5
}
