{
 "cells": [
  {
   "cell_type": "markdown",
   "id": "d2fceba1",
   "metadata": {},
   "source": [
    "    ---------------------------Conditional statements---------------------------------\n",
    "Conditional statements in Python allow you to execute different blocks of code depending on whether a certain condition is true or false. The most common 1  conditional statements are if, elif (else if), and else"
   ]
  },
  {
   "cell_type": "code",
   "execution_count": 3,
   "id": "b19e9cc9",
   "metadata": {},
   "outputs": [
    {
     "name": "stdout",
     "output_type": "stream",
     "text": [
      "X is less than 5 \n"
     ]
    }
   ],
   "source": [
    "x = 5 \n",
    "\n",
    "if x > 5:\n",
    "    print(\"X is greater than 5\")\n",
    "else:\n",
    "    print(\"X is less than 5 \")"
   ]
  },
  {
   "cell_type": "code",
   "execution_count": null,
   "id": "615c0630",
   "metadata": {},
   "outputs": [],
   "source": [
    "# multiple condition \n",
    "x = 5\n",
    "\n",
    "if x > 5:\n",
    "    print(\"X is greater than 5\")\n",
    "elif x == 5:\n",
    "    print(\"X is \")"
   ]
  }
 ],
 "metadata": {
  "kernelspec": {
   "display_name": "Python 3 (ipykernel)",
   "language": "python",
   "name": "python3"
  },
  "language_info": {
   "codemirror_mode": {
    "name": "ipython",
    "version": 3
   },
   "file_extension": ".py",
   "mimetype": "text/x-python",
   "name": "python",
   "nbconvert_exporter": "python",
   "pygments_lexer": "ipython3",
   "version": "3.10.12"
  }
 },
 "nbformat": 4,
 "nbformat_minor": 5
}
