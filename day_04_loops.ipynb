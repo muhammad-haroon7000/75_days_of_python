{
 "cells": [
  {
   "cell_type": "markdown",
   "id": "77d5aacd",
   "metadata": {},
   "source": [
    "                ---------------------Loops-----------------------------------\n",
    "Loops in Python provide a way to repeatedly execute a block of code. This is extremely useful when you need to perform the same action multiple times, either for a fixed number of times or until a certain condition is met. Python primarily offers two types of loops:"
   ]
  },
  {
   "cell_type": "code",
   "execution_count": 13,
   "id": "50f11588",
   "metadata": {},
   "outputs": [
    {
     "name": "stdout",
     "output_type": "stream",
     "text": [
      "banana\n",
      "apple\n",
      "grapes\n"
     ]
    }
   ],
   "source": [
    "# -----------------for loop --------------------------------\n",
    "\n",
    "fruits = ['banana', 'apple', 'grapes']\n",
    "\n",
    "for item in fruits:\n",
    "    print(item)"
   ]
  },
  {
   "cell_type": "code",
   "execution_count": 14,
   "id": "2ef7d41f",
   "metadata": {},
   "outputs": [
    {
     "name": "stdout",
     "output_type": "stream",
     "text": [
      "1\n",
      "2\n",
      "3\n",
      "4\n"
     ]
    }
   ],
   "source": [
    "# loop through range \n",
    "# range execulde the last the number \n",
    "for i in range(1,5):\n",
    "    print(i)"
   ]
  },
  {
   "cell_type": "code",
   "execution_count": 15,
   "id": "ab3aeebf",
   "metadata": {},
   "outputs": [
    {
     "name": "stdout",
     "output_type": "stream",
     "text": [
      "p\n",
      "y\n",
      "t\n",
      "h\n",
      "o\n",
      "n\n"
     ]
    }
   ],
   "source": [
    "# loop through directly on string\n",
    "\n",
    "for char in \"python\":\n",
    "    print(char)"
   ]
  },
  {
   "cell_type": "code",
   "execution_count": 16,
   "id": "7d4f0bcf",
   "metadata": {},
   "outputs": [
    {
     "name": "stdout",
     "output_type": "stream",
     "text": [
      "0\n",
      "2\n",
      "4\n",
      "6\n",
      "8\n"
     ]
    }
   ],
   "source": [
    "# add some condition into range \n",
    "# skip 2 value after each value print\n",
    "for value in range(0 , 10 , 2):\n",
    "    print(value)"
   ]
  },
  {
   "cell_type": "code",
   "execution_count": null,
   "id": "851bed7d",
   "metadata": {},
   "outputs": [],
   "source": [
    "#--------------------while loop --------------\n",
    "\n",
    "# infinite loop \n",
    "keep_running = True\n",
    "while keep_running:\n",
    "    print(\"Infinite loop\")"
   ]
  },
  {
   "cell_type": "code",
   "execution_count": 18,
   "id": "8617916a",
   "metadata": {},
   "outputs": [
    {
     "name": "stdout",
     "output_type": "stream",
     "text": [
      "This will print forever (or until you interrupt)\n",
      "Type 'exit' to stop:NO\n",
      "This will print forever (or until you interrupt)\n",
      "Type 'exit' to stop:NO\n",
      "This will print forever (or until you interrupt)\n",
      "Type 'exit' to stop:exit\n"
     ]
    }
   ],
   "source": [
    "# add condition to the while loop\n",
    "\n",
    "while True:\n",
    "    print(\"This will print forever (or until you interrupt)\")\n",
    "    \n",
    "    user_input = input(\"Type 'exit' to stop:\")\n",
    "    if user_input.lower() == 'exit':\n",
    "        break"
   ]
  },
  {
   "cell_type": "code",
   "execution_count": null,
   "id": "eda3c4be",
   "metadata": {},
   "outputs": [],
   "source": []
  }
 ],
 "metadata": {
  "kernelspec": {
   "display_name": "Python 3 (ipykernel)",
   "language": "python",
   "name": "python3"
  },
  "language_info": {
   "codemirror_mode": {
    "name": "ipython",
    "version": 3
   },
   "file_extension": ".py",
   "mimetype": "text/x-python",
   "name": "python",
   "nbconvert_exporter": "python",
   "pygments_lexer": "ipython3",
   "version": "3.10.12"
  }
 },
 "nbformat": 4,
 "nbformat_minor": 5
}
