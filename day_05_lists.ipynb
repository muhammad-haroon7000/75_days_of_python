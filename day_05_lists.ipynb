{
 "cells": [
  {
   "cell_type": "markdown",
   "id": "fd39bdcd",
   "metadata": {},
   "source": [
    "        ---------------------------Lists in Python ------------------------------------\n",
    "In Python, a list is an ordered, mutable (changeable) collection of items. This means:\n",
    "\n",
    "**Ordered**: The items in a list have a defined order, and that order is maintained. The first item stays first, the second stays second, and so on.\n",
    "\n",
    "**Mutable**: You can change the contents of a list after it's created. You can add, remove, or modify elements.\n",
    "Collection: A list can hold multiple items, and these items can be of different data types (integers, strings, floats, booleans, even other lists)."
   ]
  },
  {
   "cell_type": "code",
   "execution_count": 7,
   "id": "77907234",
   "metadata": {},
   "outputs": [
    {
     "name": "stdout",
     "output_type": "stream",
     "text": [
      "Empty List []\n",
      "Number list [1, 2, 3, 4, 5]\n",
      "String List ['apple', 'banana', 'grapes', 'kiwi']\n",
      "List of mix type of data [1, 'Hello', '3.12', True]\n",
      "list of list  [[1, 2, 3], ['a', 'b', 'c', 'd']]\n"
     ]
    }
   ],
   "source": [
    "# Creating List\n",
    "\n",
    "# Empty List\n",
    "my_list = [] # my_list = list()\n",
    "print(\"Empty List\", my_list)\n",
    "\n",
    "# List of integer\n",
    "number = [1,2,3,4,5]\n",
    "print(\"Number list\", number)\n",
    "\n",
    "# List of string\n",
    "string = ['apple', 'banana', 'grapes', 'kiwi']\n",
    "print(\"String List\", string)\n",
    "\n",
    "# List of mix data \n",
    "mix_data = [1, 'Hello', '3.12', True]\n",
    "print(\"List of mix type of data\", mix_data)\n",
    "\n",
    "# List of list \n",
    "matrix = [[1,2,3], ['a', 'b', 'c', 'd']]\n",
    "print(\"list of list \", matrix)"
   ]
  },
  {
   "cell_type": "markdown",
   "id": "77fff98f",
   "metadata": {},
   "source": [
    "    -------------Accessing Elements (Indexing):------------------"
   ]
  },
  {
   "cell_type": "code",
   "execution_count": 14,
   "id": "0724fce0",
   "metadata": {},
   "outputs": [
    {
     "name": "stdout",
     "output_type": "stream",
     "text": [
      "1\n",
      "4.5\n",
      "Hello\n",
      "4.5\n"
     ]
    }
   ],
   "source": [
    "my_list = [1,2,4.5,'Hello']\n",
    "print(my_list[0])\n",
    "print(my_list[2])\n",
    "print(my_list[-1]) # -1 represent the last index of the list\n",
    "print(my_list[-2]) # -2 represent the 2nd last item of the list"
   ]
  },
  {
   "cell_type": "markdown",
   "id": "3c85e449",
   "metadata": {},
   "source": [
    "    --------------------Modifying Lists:---------------------------"
   ]
  },
  {
   "cell_type": "code",
   "execution_count": 30,
   "id": "af03d4fc",
   "metadata": {},
   "outputs": [
    {
     "name": "stdout",
     "output_type": "stream",
     "text": [
      "Original list:  ['apple', 'banana', 'grapes']\n",
      "\n",
      "-----------changing specific element-----------\n",
      "\n",
      "['kiwi', 'banana', 'grapes']\n",
      "\n",
      "------------Adding element to the END-----------\n",
      "\n",
      "['kiwi', 'banana', 'grapes', 'chery']\n",
      "\n",
      "----------insert element at specific index----------\n",
      "\n",
      "['orange', 'kiwi', 'banana', 'grapes', 'chery']\n",
      "\n",
      "----------Remove element from the list----------\n",
      "\n",
      "['orange', 'kiwi', 'grapes', 'chery']\n",
      "\n",
      "----------Removes and returns the element at index 2----------\n",
      "\n",
      "Removed Fruit: grapes\n",
      "['orange', 'kiwi', 'chery']\n"
     ]
    }
   ],
   "source": [
    "fruits = ['apple', 'banana', 'grapes']\n",
    "print(\"Original list: \", fruits)\n",
    "print(\"\\n-----------changing specific element-----------\\n\")\n",
    "# changing specific element\n",
    "fruits[0] = 'kiwi' # replace the first index value\n",
    "print(fruits)\n",
    "\n",
    "print(\"\\n------------Adding element to the END-----------\\n\")\n",
    "# Adding element to the END\n",
    "fruits.append('chery')\n",
    "print(fruits)\n",
    "\n",
    "# insert element at specific index\n",
    "print(\"\\n----------insert element at specific index----------\\n\")\n",
    "fruits.insert(0, 'orange')\n",
    "print(fruits)\n",
    "\n",
    "# Remove element from the list\n",
    "print(\"\\n----------Remove element from the list----------\\n\")\n",
    "fruits.remove('banana')\n",
    "print(fruits)\n",
    "\n",
    "# Removes and returns the element at index 1\n",
    "print(\"\\n----------Removes and returns the element at index 2----------\\n\")\n",
    "removed_fruit = fruits.pop(2) \n",
    "print(\"Removed Fruit:\",removed_fruit)\n",
    "print(fruits)"
   ]
  },
  {
   "cell_type": "code",
   "execution_count": null,
   "id": "937bbfd2",
   "metadata": {},
   "outputs": [],
   "source": []
  }
 ],
 "metadata": {
  "kernelspec": {
   "display_name": "Python 3 (ipykernel)",
   "language": "python",
   "name": "python3"
  },
  "language_info": {
   "codemirror_mode": {
    "name": "ipython",
    "version": 3
   },
   "file_extension": ".py",
   "mimetype": "text/x-python",
   "name": "python",
   "nbconvert_exporter": "python",
   "pygments_lexer": "ipython3",
   "version": "3.10.12"
  }
 },
 "nbformat": 4,
 "nbformat_minor": 5
}
