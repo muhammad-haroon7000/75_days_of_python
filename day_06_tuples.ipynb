{
 "cells": [
  {
   "cell_type": "markdown",
   "id": "b0219141",
   "metadata": {},
   "source": [
    "                --------------------Tuples in Python-----------------------\n",
    "In Python, a tuple is an ordered, immutable (unchangeable) collection of items. This means:\n",
    "\n",
    "**Ordered**: Like lists, tuples maintain the order of their items.\n",
    "\n",
    "**Immutable**: This is the key difference between lists and tuples. Once a tuple is created, you cannot change its contents. You cannot add, remove, or modify elements.\n",
    "Collection: Tuples can hold multiple items of different data types."
   ]
  },
  {
   "cell_type": "code",
   "execution_count": 11,
   "id": "a0d8ab9a",
   "metadata": {},
   "outputs": [
    {
     "name": "stdout",
     "output_type": "stream",
     "text": [
      "()\n",
      "(5,)\n",
      "('apple', 'banana', 'oragne')\n",
      "(1, 1.1, 'Hello', True)\n",
      "((1, 2, 3), (4, 5, 6))\n"
     ]
    }
   ],
   "source": [
    "# Empty tuple\n",
    "empty_tuple = () # empty_tuple = tuple()\n",
    "print(empty_tuple)\n",
    "\n",
    "# single value tuple  note the trailing comma \n",
    "single_value_tuple = (5,)\n",
    "print(single_value_tuple)\n",
    "\n",
    "\n",
    "# string element tuple\n",
    "string_value_tuple = (\"apple\", 'banana', 'oragne')\n",
    "print(string_value_tuple)\n",
    "\n",
    "#Tuple of mixed type of data\n",
    "mixed_data_tuple = (1, 1.1, 'Hello', True)\n",
    "print(mixed_data_tuple)\n",
    "\n",
    "\n",
    "# Nested tuple \n",
    "nested_tuple = ((1,2,3), (4,5,6))\n",
    "print(nested_tuple)"
   ]
  },
  {
   "cell_type": "markdown",
   "id": "c1218494",
   "metadata": {},
   "source": [
    "        -------------------------Accessing Elements (Indexing):-----------------------------"
   ]
  },
  {
   "cell_type": "code",
   "execution_count": 18,
   "id": "db97182a",
   "metadata": {},
   "outputs": [
    {
     "name": "stdout",
     "output_type": "stream",
     "text": [
      "banana\n",
      "Nested tuple 2\n"
     ]
    }
   ],
   "source": [
    "fruits = (\"banana\", \"orange\")\n",
    "print(fruits[0])\n",
    "\n",
    "\n",
    "# Nested tuple \n",
    "nested_tuple = ((1,2,3), (4,5,6),(7,8,9))\n",
    "print(\"Nested tuple\", nested_tuple[0][1])"
   ]
  },
  {
   "cell_type": "code",
   "execution_count": 24,
   "id": "6df72c8c",
   "metadata": {},
   "outputs": [
    {
     "name": "stdout",
     "output_type": "stream",
     "text": [
      "('banana', 'orange', 'apple')\n",
      "Original tuple is same ('banana', 'orange') \n"
     ]
    }
   ],
   "source": [
    "#You can create a new tuple by concatenating existing tuples:\n",
    "new_fruits = fruits + ('apple',)\n",
    "print(new_fruits)\n",
    "\n",
    "print(f\"Original tuple is same {fruits} \")"
   ]
  },
  {
   "cell_type": "markdown",
   "id": "fa88fd70",
   "metadata": {},
   "source": [
    "    ---------- go back to day 5 check the silicing the same thing we can apply here as well----------"
   ]
  },
  {
   "cell_type": "markdown",
   "id": "83f0d8d8",
   "metadata": {},
   "source": [
    "        ------------------------Tuple Unpacking:--------------------------"
   ]
  },
  {
   "cell_type": "code",
   "execution_count": 34,
   "id": "8cb65ae0",
   "metadata": {},
   "outputs": [
    {
     "name": "stdout",
     "output_type": "stream",
     "text": [
      "x value is : 10 , y value is 20\n"
     ]
    }
   ],
   "source": [
    "# unpacking the element into separate variables\n",
    "points = (10, 20)\n",
    "x, y = points\n",
    "\n",
    "\n",
    "# we can also get function \n",
    "\n",
    "def get_coordinate():\n",
    "    return (10, 20)\n",
    "\n",
    "x, y = get_coordinate()\n",
    "\n",
    "print(f\"x value is : {x} , y value is {y}\")"
   ]
  },
  {
   "cell_type": "code",
   "execution_count": null,
   "id": "f951ed9c",
   "metadata": {},
   "outputs": [],
   "source": []
  },
  {
   "cell_type": "code",
   "execution_count": null,
   "id": "8648c0a3",
   "metadata": {},
   "outputs": [],
   "source": []
  }
 ],
 "metadata": {
  "kernelspec": {
   "display_name": "Python 3 (ipykernel)",
   "language": "python",
   "name": "python3"
  },
  "language_info": {
   "codemirror_mode": {
    "name": "ipython",
    "version": 3
   },
   "file_extension": ".py",
   "mimetype": "text/x-python",
   "name": "python",
   "nbconvert_exporter": "python",
   "pygments_lexer": "ipython3",
   "version": "3.10.12"
  }
 },
 "nbformat": 4,
 "nbformat_minor": 5
}
