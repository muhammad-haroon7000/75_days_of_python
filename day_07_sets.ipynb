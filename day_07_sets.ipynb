{
 "cells": [
  {
   "cell_type": "markdown",
   "id": "2f060ea4",
   "metadata": {},
   "source": [
    "        -------------------------- Sets in Python ---------------------------------\n",
    "In Python, a set is an unordered and mutable collection of unique elements. This means:\n",
    "\n",
    "**Unordered:** The items in a set do not have a defined order. You cannot access elements by index like you do with lists or tuples.\n",
    "\n",
    "**Mutable:** You can add and remove elements from a set after it's created.\n",
    "\n",
    "**Unique:** Sets automatically remove duplicate elements. If you try to add an element that is already in the set, it will simply be ignored."
   ]
  },
  {
   "cell_type": "markdown",
   "id": "b65a3270",
   "metadata": {},
   "source": [
    "    --------------------- Creating Sets:------------------------"
   ]
  },
  {
   "cell_type": "code",
   "execution_count": 12,
   "id": "c965bc2e",
   "metadata": {},
   "outputs": [
    {
     "name": "stdout",
     "output_type": "stream",
     "text": [
      "{'a', 'n', 'H', 'r', 'o'}\n"
     ]
    }
   ],
   "source": [
    "# creating empyt set\n",
    "empty_set = set('Haroon')\n",
    "print(empty_set)\n",
    "# Note: set all required iteratble object . string is iteratable \n",
    "# set(1) incorrect "
   ]
  },
  {
   "cell_type": "code",
   "execution_count": 15,
   "id": "9eccbe3f",
   "metadata": {},
   "outputs": [
    {
     "name": "stdout",
     "output_type": "stream",
     "text": [
      "{1, 2, 3, 4, 5, 3.12, 'Haroon'}\n"
     ]
    }
   ],
   "source": [
    "# create set literal , \n",
    "my_set_with_duplicates = {1,2,3,4,4,5,'Haroon', True, 3.12}\n",
    "print(my_set_with_duplicates)"
   ]
  },
  {
   "cell_type": "code",
   "execution_count": 16,
   "id": "4c23b7f9",
   "metadata": {},
   "outputs": [
    {
     "name": "stdout",
     "output_type": "stream",
     "text": [
      "{1, 12, 13, 14, 15, 'Apple'}\n"
     ]
    }
   ],
   "source": [
    "# Create list and then remove duplicates from it using set\n",
    "my_list_with_duplicates = [1,12,12,12,13,13,14,15,14,'Apple', 'Apple']\n",
    "# assign to set \n",
    "my_set_with_unique = set(my_list_with_duplicates)\n",
    "print(my_set_with_unique)"
   ]
  },
  {
   "cell_type": "markdown",
   "id": "0790bf89",
   "metadata": {},
   "source": [
    "    ----------------------- Adding and Removing Elements:------------------"
   ]
  },
  {
   "cell_type": "code",
   "execution_count": 18,
   "id": "6dd318f9",
   "metadata": {},
   "outputs": [
    {
     "name": "stdout",
     "output_type": "stream",
     "text": [
      "{'Orange', 1, 2, 'Apple'}\n"
     ]
    }
   ],
   "source": [
    "# adding element into set\n",
    "\n",
    "add_to_set = {1,2,'Apple', True}\n",
    "add_to_set.add('Orange')\n",
    "print(add_to_set)"
   ]
  },
  {
   "cell_type": "code",
   "execution_count": 20,
   "id": "b6dd64e6",
   "metadata": {},
   "outputs": [
    {
     "name": "stdout",
     "output_type": "stream",
     "text": [
      "unique values {1, 2, 3, 4, 5.5, 6.6}\n"
     ]
    }
   ],
   "source": [
    "# adding duplicate values \n",
    "add_duplicate_to_set = {1,1,2,2,3,3,4,4,5.5, 5.5 , 6.6, 6.6}\n",
    "print(\"unique values\",add_duplicate_to_set)"
   ]
  },
  {
   "cell_type": "code",
   "execution_count": 21,
   "id": "b462b2fc",
   "metadata": {},
   "outputs": [
    {
     "name": "stdout",
     "output_type": "stream",
     "text": [
      "{1, 2, 3, 4}\n"
     ]
    }
   ],
   "source": [
    "# Removing element from set\n",
    "\n",
    "my_set_remove_element = {1,2,3,4,'Haroon'}\n",
    "my_set_remove_element.remove('Haroon')\n",
    "print(my_set_remove_element)"
   ]
  },
  {
   "cell_type": "code",
   "execution_count": 23,
   "id": "195927b1",
   "metadata": {},
   "outputs": [
    {
     "ename": "KeyError",
     "evalue": "5",
     "output_type": "error",
     "traceback": [
      "\u001b[0;31m---------------------------------------------------------------------------\u001b[0m",
      "\u001b[0;31mKeyError\u001b[0m                                  Traceback (most recent call last)",
      "\u001b[0;32m/tmp/ipykernel_152128/1137440287.py\u001b[0m in \u001b[0;36m<module>\u001b[0;34m\u001b[0m\n\u001b[1;32m      2\u001b[0m \u001b[0;31m#KeyError will be raise\u001b[0m\u001b[0;34m\u001b[0m\u001b[0;34m\u001b[0m\u001b[0m\n\u001b[1;32m      3\u001b[0m \u001b[0mmy_set_remove_non_exist_element\u001b[0m \u001b[0;34m=\u001b[0m \u001b[0;34m{\u001b[0m\u001b[0;36m1\u001b[0m\u001b[0;34m,\u001b[0m\u001b[0;36m2\u001b[0m\u001b[0;34m,\u001b[0m\u001b[0;36m3\u001b[0m\u001b[0;34m,\u001b[0m\u001b[0;36m4\u001b[0m\u001b[0;34m}\u001b[0m\u001b[0;34m\u001b[0m\u001b[0;34m\u001b[0m\u001b[0m\n\u001b[0;32m----> 4\u001b[0;31m \u001b[0mmy_set_remove_non_exist_element\u001b[0m\u001b[0;34m.\u001b[0m\u001b[0mremove\u001b[0m\u001b[0;34m(\u001b[0m\u001b[0;36m5\u001b[0m\u001b[0;34m)\u001b[0m\u001b[0;34m\u001b[0m\u001b[0;34m\u001b[0m\u001b[0m\n\u001b[0m\u001b[1;32m      5\u001b[0m \u001b[0mprint\u001b[0m\u001b[0;34m(\u001b[0m\u001b[0mmy_set_remove_non_exist_element\u001b[0m\u001b[0;34m)\u001b[0m\u001b[0;34m\u001b[0m\u001b[0;34m\u001b[0m\u001b[0m\n",
      "\u001b[0;31mKeyError\u001b[0m: 5"
     ]
    }
   ],
   "source": [
    "# Removing non existing element\n",
    "#KeyError will be raise \n",
    "my_set_remove_non_exist_element = {1,2,3,4}\n",
    "my_set_remove_non_exist_element.remove(5)\n",
    "print(my_set_remove_non_exist_element)"
   ]
  },
  {
   "cell_type": "code",
   "execution_count": 24,
   "id": "508c0306",
   "metadata": {},
   "outputs": [
    {
     "name": "stdout",
     "output_type": "stream",
     "text": [
      "{1, 2, 3, 4}\n"
     ]
    }
   ],
   "source": [
    "# Discading element which is not existing\n",
    "# Will ignore it if not exist simply\n",
    "\n",
    "my_set_discard = {1,2,3,4}\n",
    "my_set_discard.discard(5)\n",
    "print(my_set_discard)"
   ]
  },
  {
   "cell_type": "code",
   "execution_count": 33,
   "id": "7decd9cc",
   "metadata": {},
   "outputs": [
    {
     "name": "stdout",
     "output_type": "stream",
     "text": [
      "{'Apple', 'Banana'}\n"
     ]
    }
   ],
   "source": [
    "# removing arbitrary  element \n",
    "popped_element = {'Apple', 'Orange', 'Banana'}\n",
    "popped_element.pop()\n",
    "print(popped_element)"
   ]
  },
  {
   "cell_type": "code",
   "execution_count": 60,
   "id": "54c79872",
   "metadata": {},
   "outputs": [
    {
     "name": "stdout",
     "output_type": "stream",
     "text": [
      "Empty set: set()\n"
     ]
    }
   ],
   "source": [
    "# Removing all elements\n",
    "\n",
    "clear_set = {1,2,3,'abc'}\n",
    "clear_set.clear()\n",
    "print(\"Empty set:\",clear_set)"
   ]
  },
  {
   "cell_type": "markdown",
   "id": "f56ea248",
   "metadata": {},
   "source": [
    "        -----------------Set Operations:----------------------"
   ]
  },
  {
   "cell_type": "code",
   "execution_count": 64,
   "id": "2eee60a1",
   "metadata": {},
   "outputs": [
    {
     "name": "stdout",
     "output_type": "stream",
     "text": [
      "union using | :  {1, 2, 3, 4, 5, 6, 7}\n",
      "union using union method:  {1, 2, 3, 4, 5, 6, 7}\n"
     ]
    }
   ],
   "source": [
    "set1 = {1,2,3,4,5}\n",
    "set2 = {3,4,5,6,7}\n",
    "\n",
    "#union (all elements in either set\n",
    "union_set = set1 | set2 \n",
    "print(\"union using | : \",union_set)\n",
    "union_set = set1.union(set2)\n",
    "print(\"union using union method: \",union_set)"
   ]
  },
  {
   "cell_type": "code",
   "execution_count": 66,
   "id": "f951b4bc",
   "metadata": {},
   "outputs": [
    {
     "name": "stdout",
     "output_type": "stream",
     "text": [
      "Intersection using &:  {3, 4, 5}\n",
      "Intersection using intersection method,  {3, 4, 5}\n"
     ]
    }
   ],
   "source": [
    "# Intersection (element in both sets )\n",
    "set1 = {1,2,3,4,5}\n",
    "set2 = {3,4,5,6,7}\n",
    "Intersection_set = set1 & set2\n",
    "print(\"Intersection using &: \", Intersection_set)\n",
    "Intersection_set = set2.intersection(set1)\n",
    "print(\"Intersection using intersection method, \", Intersection_set)"
   ]
  },
  {
   "cell_type": "code",
   "execution_count": 69,
   "id": "862026b9",
   "metadata": {},
   "outputs": [
    {
     "name": "stdout",
     "output_type": "stream",
     "text": [
      "Difference using difference method : {1, 2}\n"
     ]
    }
   ],
   "source": [
    "# Difference (element in set1 but not in set2 )\n",
    "set1 = {1,2,3,4,5}\n",
    "set2 = {3,4,5,6,7}\n",
    "\n",
    "Difference_set = set1 - set2\n",
    "print(\"Difference using difference method :\", Difference_set)"
   ]
  },
  {
   "cell_type": "code",
   "execution_count": 71,
   "id": "29af7fcb",
   "metadata": {},
   "outputs": [
    {
     "name": "stdout",
     "output_type": "stream",
     "text": [
      "symmetric difference using ^ :  {1, 2, 6, 7}\n",
      "symmetric difference using symmetric_difference method : {1, 2, 6, 7}\n"
     ]
    }
   ],
   "source": [
    "# Symmetric Difference (element in either set but not in both set)\n",
    "set1 = {1,2,3,4,5}\n",
    "set2 = {3,4,5,6,7}\n",
    "symmetric_set = set1 ^ set2 \n",
    "print(\"symmetric difference using ^ : \", symmetric_set)\n",
    "symmetric_set = set1.symmetric_difference(set2)\n",
    "print(\"symmetric difference using symmetric_difference method :\", symmetric_set)"
   ]
  },
  {
   "cell_type": "code",
   "execution_count": 77,
   "id": "e0862dea",
   "metadata": {},
   "outputs": [
    {
     "name": "stdout",
     "output_type": "stream",
     "text": [
      "set3 is subset of set1 : True\n",
      "set3 is NOT subset of set2 : False\n",
      "set1 is supper set of set3:  True\n",
      "set2 is NOT supper set of set3:  False\n"
     ]
    }
   ],
   "source": [
    "#subset \n",
    "set1 = {1,2,3,4,5}\n",
    "set2 = {3,4,5,6,7}\n",
    "set3 = {1,2}\n",
    "\n",
    "print(\"set3 is subset of set1 :\", set3.issubset(set1))\n",
    "print(\"set3 is NOT subset of set2 :\", set3.issubset(set2))\n",
    "\n",
    "# superset\n",
    "print(\"set1 is supper set of set3: \", set1.issuperset(set3))\n",
    "print(\"set2 is NOT supper set of set3: \", set2.issuperset(set3))"
   ]
  }
 ],
 "metadata": {
  "kernelspec": {
   "display_name": "Python 3 (ipykernel)",
   "language": "python",
   "name": "python3"
  },
  "language_info": {
   "codemirror_mode": {
    "name": "ipython",
    "version": 3
   },
   "file_extension": ".py",
   "mimetype": "text/x-python",
   "name": "python",
   "nbconvert_exporter": "python",
   "pygments_lexer": "ipython3",
   "version": "3.10.12"
  }
 },
 "nbformat": 4,
 "nbformat_minor": 5
}
