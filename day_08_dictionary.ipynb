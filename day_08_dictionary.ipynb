{
 "cells": [
  {
   "cell_type": "markdown",
   "id": "5dc41263",
   "metadata": {},
   "source": [
    "    ------------------------Dictionary in Python-------------------------\n",
    " In Python, a dictionary is an unordered, mutable collection of key-value pairs. This mean:\n",
    " \n",
    "**Unordered:** The items in a dictionary do not have a defined order.\n",
    "\n",
    "**Mutable:** You can add, remove, and modify key-value pairs after the dictionary is created.\n",
    "\n",
    "**Key-Value** Pairs: Each item in a dictionary consists of a key and a corresponding value. Keys must be immutable (e.g., strings, numbers, tuples), while values can be of any data type."
   ]
  },
  {
   "cell_type": "markdown",
   "id": "3be0883f",
   "metadata": {},
   "source": [
    "        -----------------Why and Where Do We Need Dictionaries?----------------------\n",
    "\n",
    "Dictionaries are incredibly useful for:\n",
    "\n",
    "**Storing and retrieving data by name:** Instead of using numerical indices like in lists, you use meaningful keys to access values. This makes your code more readable and easier to understand.\n",
    "\n",
    "**Representing structured data:** Dictionaries can represent complex data structures like records, objects, or configurations.\n",
    "\n",
    "**Implementing lookups and mappings:** Dictionaries provide efficient ways to look up values based on their keys."
   ]
  },
  {
   "cell_type": "markdown",
   "id": "49d03706",
   "metadata": {},
   "source": [
    "        ----------------------Creating Dictionaries:--------------------"
   ]
  },
  {
   "cell_type": "code",
   "execution_count": 7,
   "id": "daf0e666",
   "metadata": {},
   "outputs": [
    {
     "name": "stdout",
     "output_type": "stream",
     "text": [
      "If the curly braces are empty, it creates a: <class 'dict'>\n",
      "To create an empty set, use set(). {} creates a dictionary: <class 'set'>\n",
      "If you add values without keys, it creates a: <class 'set'>\n"
     ]
    }
   ],
   "source": [
    "# An empty pair of curly braces {} creates an empty dictionary.\n",
    "empty_dict = {}\n",
    "print(\"If the curly braces are empty, it creates a:\", type(empty_dict))\n",
    "\n",
    "# To create an empty set, you must use the set() constructor.\n",
    "# Simply using {} creates an empty dictionary, NOT a set.\n",
    "empty_set = set()\n",
    "print(\"To create an empty set, use set(). {} creates a dictionary:\", type(empty_set))\n",
    "\n",
    "# When you add values inside curly braces {}, Python interprets it as a set\n",
    "# if the values are not key-value pairs.\n",
    "a_set = {1, 2, 3}  # Creating a set with values\n",
    "print(\"If you add values without keys, it creates a:\", type(a_set))"
   ]
  },
  {
   "cell_type": "code",
   "execution_count": 9,
   "id": "b7eeec10",
   "metadata": {},
   "outputs": [
    {
     "name": "stdout",
     "output_type": "stream",
     "text": [
      "{'Name': 'Haroon', 'Age': 25, 'City': 'Waziristan'}\n"
     ]
    }
   ],
   "source": [
    "# Dictionary with initial key-value pairs\n",
    "\n",
    "person = {\n",
    "    \"Name\": 'Haroon',\n",
    "    \"Age\": 25,\n",
    "    \"City\": 'Waziristan'\n",
    "}\n",
    "\n",
    "print(person)"
   ]
  },
  {
   "cell_type": "code",
   "execution_count": 17,
   "id": "d99c6fe1",
   "metadata": {},
   "outputs": [
    {
     "name": "stdout",
     "output_type": "stream",
     "text": [
      "{'name': 'Haroon', 'email': 'muhammadharoon7000@gmail.com', 'department': 'data_engineering', 'degree': 'BSCS', 'years_of_exp': 1}\n"
     ]
    }
   ],
   "source": [
    "#Another way to create dictionary using dic constructor \n",
    "\n",
    "employee_details = dict(\n",
    "    name= 'Haroon',\n",
    "    email='muhammadharoon7000@gmail.com',\n",
    "    department= 'data_engineering',\n",
    "    degree='BSCS', \n",
    "    years_of_exp= 1 )\n",
    "print(employee_details)"
   ]
  },
  {
   "cell_type": "markdown",
   "id": "77972f98",
   "metadata": {},
   "source": [
    "            -------------------------Accessing Values:--------------------"
   ]
  },
  {
   "cell_type": "code",
   "execution_count": 18,
   "id": "29944bd4",
   "metadata": {},
   "outputs": [
    {
     "name": "stdout",
     "output_type": "stream",
     "text": [
      "muhammadharoon7000@gmail.com\n"
     ]
    }
   ],
   "source": [
    "#Accessing value by it's key\n",
    "employee_details = dict(\n",
    "    name= 'Haroon',\n",
    "    email='muhammadharoon7000@gmail.com',\n",
    "    department= 'data_engineering',\n",
    "    degree='BSCS', \n",
    "    years_of_exp= 1 )\n",
    "\n",
    "print(employee_details['email'])\n"
   ]
  },
  {
   "cell_type": "code",
   "execution_count": 21,
   "id": "89b6e261",
   "metadata": {},
   "outputs": [
    {
     "name": "stdout",
     "output_type": "stream",
     "text": [
      "None\n"
     ]
    }
   ],
   "source": [
    "# getting value using get method \n",
    "# it's safe if key is not present it return none\n",
    "\n",
    "employee_details.get('department')\n",
    "\n",
    "# None key \n",
    "none_value = employee_details.get('company')\n",
    "print(none_value)"
   ]
  },
  {
   "cell_type": "code",
   "execution_count": 23,
   "id": "1797c9b9",
   "metadata": {},
   "outputs": [
    {
     "ename": "KeyError",
     "evalue": "'company'",
     "output_type": "error",
     "traceback": [
      "\u001b[0;31m---------------------------------------------------------------------------\u001b[0m",
      "\u001b[0;31mKeyError\u001b[0m                                  Traceback (most recent call last)",
      "\u001b[0;32m/tmp/ipykernel_189361/2770642259.py\u001b[0m in \u001b[0;36m<module>\u001b[0;34m\u001b[0m\n\u001b[1;32m      1\u001b[0m \u001b[0;31m#Accessing non exiting key without get() method will raise KeyError\u001b[0m\u001b[0;34m\u001b[0m\u001b[0;34m\u001b[0m\u001b[0m\n\u001b[0;32m----> 2\u001b[0;31m \u001b[0mprint\u001b[0m\u001b[0;34m(\u001b[0m\u001b[0memployee_details\u001b[0m\u001b[0;34m[\u001b[0m\u001b[0;34m'company'\u001b[0m\u001b[0;34m]\u001b[0m\u001b[0;34m)\u001b[0m\u001b[0;34m\u001b[0m\u001b[0;34m\u001b[0m\u001b[0m\n\u001b[0m",
      "\u001b[0;31mKeyError\u001b[0m: 'company'"
     ]
    }
   ],
   "source": [
    "#Accessing non exiting key without get() method will raise KeyError\n",
    "print(employee_details['company'])"
   ]
  },
  {
   "cell_type": "markdown",
   "id": "44bd8d86",
   "metadata": {},
   "source": [
    "    -----------------------Modifying Dictionaries:--------------------"
   ]
  },
  {
   "cell_type": "code",
   "execution_count": 36,
   "id": "46ebc310",
   "metadata": {},
   "outputs": [
    {
     "name": "stdout",
     "output_type": "stream",
     "text": [
      "{'name': 'Alice', 'age': 35, 'city': 'Waziristan', 'country': 'Pakistan'}\n"
     ]
    }
   ],
   "source": [
    "person = {\n",
    "    \"name\": 'Alice',\n",
    "    \"age\": 35,\n",
    "    \"city\": 'Waziristan'\n",
    "}\n",
    "\n",
    "# Adding a new key-value pair\n",
    "person['country'] = 'Pakistan'\n",
    "print(person)"
   ]
  },
  {
   "cell_type": "code",
   "execution_count": 37,
   "id": "431f58d7",
   "metadata": {},
   "outputs": [
    {
     "name": "stdout",
     "output_type": "stream",
     "text": [
      "{'name': 'Alice', 'age': 25, 'city': 'Waziristan', 'country': 'Pakistan'}\n"
     ]
    }
   ],
   "source": [
    "#Updating an existing value\n",
    "person['age'] = 25\n",
    "print(person)"
   ]
  },
  {
   "cell_type": "code",
   "execution_count": 38,
   "id": "2e972b14",
   "metadata": {},
   "outputs": [
    {
     "name": "stdout",
     "output_type": "stream",
     "text": [
      "{'age': 25, 'city': 'Waziristan', 'country': 'Pakistan'}\n"
     ]
    }
   ],
   "source": [
    "# Removing a key-value pair\n",
    "\n",
    "del person['name']\n",
    "print(person)"
   ]
  },
  {
   "cell_type": "code",
   "execution_count": 39,
   "id": "a23a31e6",
   "metadata": {},
   "outputs": [
    {
     "name": "stdout",
     "output_type": "stream",
     "text": [
      "25\n",
      "{'city': 'Waziristan', 'country': 'Pakistan'}\n"
     ]
    }
   ],
   "source": [
    "# Removing a key-value pair using pop (returns the value )\n",
    "\n",
    "return_value = person.pop('age')\n",
    "print(return_value)\n",
    "print(person)"
   ]
  },
  {
   "cell_type": "code",
   "execution_count": 40,
   "id": "89077e1f",
   "metadata": {},
   "outputs": [
    {
     "name": "stdout",
     "output_type": "stream",
     "text": [
      "{}\n"
     ]
    }
   ],
   "source": [
    "# Remove all element\n",
    "person.clear()\n",
    "print(person)"
   ]
  },
  {
   "cell_type": "markdown",
   "id": "56dd6a4f",
   "metadata": {},
   "source": [
    "        --------------------Iterating through a Dictionary:-------------------"
   ]
  },
  {
   "cell_type": "code",
   "execution_count": 47,
   "id": "1db4bb99",
   "metadata": {},
   "outputs": [
    {
     "name": "stdout",
     "output_type": "stream",
     "text": [
      "name\n",
      "age\n",
      "city\n",
      "\n",
      " Iterating through keys method\n",
      "\n",
      "name\n",
      "age\n",
      "city\n"
     ]
    }
   ],
   "source": [
    "person = {\n",
    "    \"name\": \"Alice\",\n",
    "    \"age\": 30,\n",
    "    \"city\": \"New York\"\n",
    "}\n",
    "\n",
    "# 1st Iterating through keys\n",
    "for key in person:\n",
    "    print(key)\n",
    "    \n",
    "print(\"\\n Iterating through keys method\\n\")\n",
    "# 2 Iterating through keys\n",
    "for key in person.keys():\n",
    "    print(key)"
   ]
  },
  {
   "cell_type": "code",
   "execution_count": 50,
   "id": "19364944",
   "metadata": {},
   "outputs": [
    {
     "name": "stdout",
     "output_type": "stream",
     "text": [
      "Alice\n",
      "30\n",
      "New York\n"
     ]
    }
   ],
   "source": [
    "# Iterating through value\n",
    "for value in person.values():\n",
    "    print(value)\n"
   ]
  },
  {
   "cell_type": "code",
   "execution_count": 51,
   "id": "c884fa73",
   "metadata": {},
   "outputs": [
    {
     "name": "stdout",
     "output_type": "stream",
     "text": [
      "name : Alice \n",
      "age : 30 \n",
      "city : New York \n"
     ]
    }
   ],
   "source": [
    "# Iterating through key-value (items)\n",
    "\n",
    "for key, value in person.items():\n",
    "    print(f\"{key} : {value} \")"
   ]
  },
  {
   "cell_type": "markdown",
   "id": "d62d0846",
   "metadata": {},
   "source": [
    "    -----------------------Dictionary Methods:--------------------"
   ]
  },
  {
   "cell_type": "code",
   "execution_count": 55,
   "id": "a53314dc",
   "metadata": {},
   "outputs": [
    {
     "name": "stdout",
     "output_type": "stream",
     "text": [
      "dict_keys(['name', 'age', 'city'])\n",
      "dict_values(['Alice', 30, 'New York'])\n",
      "dict_items([('name', 'Alice'), ('age', 30), ('city', 'New York')])\n"
     ]
    }
   ],
   "source": [
    "person = {\n",
    "    \"name\": \"Alice\",\n",
    "    \"age\": 30,\n",
    "    \"city\": \"New York\"\n",
    "}\n",
    "\n",
    "print(person.keys())\n",
    "print(person.values())\n",
    "print(person.items())\n"
   ]
  },
  {
   "cell_type": "code",
   "execution_count": 56,
   "id": "d143d369",
   "metadata": {},
   "outputs": [
    {
     "name": "stdout",
     "output_type": "stream",
     "text": [
      "{'name': 'Alice', 'age': 30, 'city': 'New York'}\n",
      "{'name': 'Alice', 'age': 30, 'city': 'New York', 'country': 'USA'}\n"
     ]
    }
   ],
   "source": [
    "#creating a copy of a dictionary\n",
    "person_copy = person.copy()\n",
    "person_copy['country'] = 'USA'\n",
    "print(person)\n",
    "print(person_copy)"
   ]
  },
  {
   "cell_type": "code",
   "execution_count": 57,
   "id": "ddd4d736",
   "metadata": {},
   "outputs": [],
   "source": [
    "#Update one dictionary with another\n",
    "\n",
    "person_update = {'job': 'Engineer', 'company': 'VSI'}\n",
    "person.update(person_update)\n",
    "print(person)\n",
    "prin"
   ]
  },
  {
   "cell_type": "code",
   "execution_count": null,
   "id": "5fd80be7",
   "metadata": {},
   "outputs": [],
   "source": []
  }
 ],
 "metadata": {
  "kernelspec": {
   "display_name": "Python 3 (ipykernel)",
   "language": "python",
   "name": "python3"
  },
  "language_info": {
   "codemirror_mode": {
    "name": "ipython",
    "version": 3
   },
   "file_extension": ".py",
   "mimetype": "text/x-python",
   "name": "python",
   "nbconvert_exporter": "python",
   "pygments_lexer": "ipython3",
   "version": "3.10.12"
  }
 },
 "nbformat": 4,
 "nbformat_minor": 5
}
