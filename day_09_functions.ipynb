{
 "cells": [
  {
   "cell_type": "markdown",
   "id": "00937d82",
   "metadata": {},
   "source": [
    "            -------------------------Functions in Python---------------------\n",
    "**What is a Function?**\n",
    "\n",
    "A function is a block of organized, reusable code that performs a specific task. Functions help break down complex programs into smaller, more manageable parts, making code more modular, readable, and maintainable."
   ]
  },
  {
   "cell_type": "markdown",
   "id": "4bc34087",
   "metadata": {},
   "source": [
    "            ------------------Why and Where Do We Need Functions?--------------\n",
    "\n",
    "**Functions are essential for:**\n",
    "\n",
    "**Code reusability:** Write code once and use it multiple times.\n",
    "\n",
    "**Modularity:** Break down a program into smaller, independent units.\n",
    "\n",
    "**Readability:** Make code easier to understand and follow.\n",
    "\n",
    "**Maintainability:** Easier to debug and update code."
   ]
  },
  {
   "cell_type": "markdown",
   "id": "4d42a958",
   "metadata": {},
   "source": [
    "            ---------------------Defining a Function:------------------------\n",
    "\n",
    "In Python, you define a function using the **def** keyword, followed by the **function name**, parentheses **()**, and a colon **:**. The code block within the function is **indented**."
   ]
  },
  {
   "cell_type": "code",
   "execution_count": null,
   "id": "7a6531ce",
   "metadata": {},
   "outputs": [],
   "source": [
    "def function_name(parameters):\n",
    "     \"\"\"Docstring explaining what the function does.\"\"\"\n",
    "        #code to be executed\n",
    "        return value # Optional: returns a value "
   ]
  },
  {
   "cell_type": "markdown",
   "id": "8e42c30e",
   "metadata": {},
   "source": [
    "    ----------------Function with or without Parameters and Value------------"
   ]
  },
  {
   "cell_type": "code",
   "execution_count": 5,
   "id": "3cf5bd19",
   "metadata": {},
   "outputs": [
    {
     "name": "stdout",
     "output_type": "stream",
     "text": [
      "Hello, world\n"
     ]
    }
   ],
   "source": [
    "#Simple Function (No Parameters, No Return Value):\n",
    "def greet():\n",
    "    print(\"Hello, world\")\n",
    "    \n",
    "greet()"
   ]
  },
  {
   "cell_type": "code",
   "execution_count": null,
   "id": "9422c363",
   "metadata": {},
   "outputs": [],
   "source": []
  },
  {
   "cell_type": "code",
   "execution_count": 9,
   "id": "75da4678",
   "metadata": {},
   "outputs": [
    {
     "name": "stdout",
     "output_type": "stream",
     "text": [
      "Hello ,Dear\n"
     ]
    }
   ],
   "source": [
    "# Function with Parameters: No return value\n",
    "def greet_person(name):\n",
    "    print(f\"Hello ,{name}\")\n",
    "    \n",
    "greet_person(\"Dear\")"
   ]
  },
  {
   "cell_type": "markdown",
   "id": "e9012b0b",
   "metadata": {},
   "source": [
    "        ------------------------ Function with Return Value:----------------"
   ]
  },
  {
   "cell_type": "code",
   "execution_count": 17,
   "id": "00b81b05",
   "metadata": {},
   "outputs": [
    {
     "name": "stdout",
     "output_type": "stream",
     "text": [
      "Return value is:  30\n",
      "store value is 50\n"
     ]
    }
   ],
   "source": [
    "def add_numbers(x,y):\n",
    "    ''' Adds two numbers and returns the sum.'''\n",
    "    return(x + y)\n",
    "\n",
    "print(\"Return value is: \",add_numbers(10,20))\n",
    "\n",
    "# Calling the function and storing the return value\n",
    "store_value = add_numbers(20,30)\n",
    "print(f\"store value is {store_value}\")"
   ]
  },
  {
   "cell_type": "markdown",
   "id": "63f418d2",
   "metadata": {},
   "source": [
    "    --------------------------Function with Default Parameter Values:-------------"
   ]
  },
  {
   "cell_type": "code",
   "execution_count": 20,
   "id": "9a923358",
   "metadata": {},
   "outputs": [
    {
     "name": "stdout",
     "output_type": "stream",
     "text": [
      "Hello, Mr. Alice\n",
      "Hello, Ms Jane\n"
     ]
    }
   ],
   "source": [
    "def greet_with_title(name, title='Mr.'):\n",
    "    \"\"\"greeting with title \"\"\"\n",
    "    print(f\"Hello, {title} {name}\")\n",
    "    \n",
    "greet_with_title(\"Alice\")\n",
    "greet_with_title(\"Jane\", \"Ms\")"
   ]
  },
  {
   "cell_type": "markdown",
   "id": "4bbfdad5",
   "metadata": {},
   "source": [
    "            ------------------ Function with Multiple Return Values (using tuples):-------------"
   ]
  },
  {
   "cell_type": "code",
   "execution_count": 26,
   "id": "8db299f8",
   "metadata": {},
   "outputs": [
    {
     "name": "stdout",
     "output_type": "stream",
     "text": [
      "(2, 0)\n",
      "quotient is : 2 and remainder is 0 \n",
      "\n",
      "('Dividion by zero not allowed', None)\n",
      "\n",
      " Using _ to ignore the second return value\n",
      "Dividion by zero not allowed\n"
     ]
    }
   ],
   "source": [
    "def divide(x,y):\n",
    "    \"\"\"Divides x by y and returns quotient and remainder \"\"\"\n",
    "    if y == 0 :\n",
    "        return \"Dividion by zero not allowed\", None # returning a string and None in case of error\n",
    "    quotient = x // y # integer value\n",
    "    remainder = x % y \n",
    "    return (quotient, remainder)\n",
    "\n",
    "result = divide(10 , 5)\n",
    "print(result)\n",
    "#unpacking tuple\n",
    "quotient, remainder = divide(20 , 10)\n",
    "print(f\"quotient is : {quotient} and remainder is {remainder} \\n\")\n",
    "\n",
    "none_divisible = divide(100, 0)\n",
    "print(none_divisible)\n",
    "\n",
    "print(\"\\n Using _ to ignore the second return value\")\n",
    "error_message, _ = divide(10, 0) # Using _ to ignore the second return value\n",
    "print(error_message) # Output: Division by zero is not allowed"
   ]
  },
  {
   "cell_type": "markdown",
   "id": "ef024edb",
   "metadata": {},
   "source": [
    "    -------------------------- Docstrings (Documentation):------------------------"
   ]
  },
  {
   "cell_type": "code",
   "execution_count": 29,
   "id": "10955c2f",
   "metadata": {},
   "outputs": [
    {
     "name": "stdout",
     "output_type": "stream",
     "text": [
      "Help on function functin_with_doc in module __main__:\n",
      "\n",
      "functin_with_doc(a, b)\n",
      "    This function performs a specific task.\n",
      "    \n",
      "    Args:\n",
      "        a: The first argument.\n",
      "        b: The second argument.\n",
      "    \n",
      "    Returns:\n",
      "        The result of the task sum of a , b.\n",
      "\n"
     ]
    }
   ],
   "source": [
    "def functin_with_doc(a, b):\n",
    "    \"\"\"\n",
    "    This function performs a specific task.\n",
    "\n",
    "    Args:\n",
    "        a: The first argument.\n",
    "        b: The second argument.\n",
    "\n",
    "    Returns:\n",
    "        The result of the task sum of a , b.\n",
    "    \"\"\"\n",
    "    return a + b\n",
    "\n",
    "help(functin_with_doc) # Prints the docstring"
   ]
  },
  {
   "cell_type": "code",
   "execution_count": 30,
   "id": "a8ae3db7",
   "metadata": {},
   "outputs": [
    {
     "name": "stdout",
     "output_type": "stream",
     "text": [
      "Help on function divide in module __main__:\n",
      "\n",
      "divide(x, y)\n",
      "    Divides x by y and returns quotient and remainder\n",
      "\n"
     ]
    }
   ],
   "source": [
    "# let pass above function to help method \n",
    "\n",
    "help(divide)"
   ]
  },
  {
   "cell_type": "markdown",
   "id": "6c908303",
   "metadata": {},
   "source": []
  },
  {
   "cell_type": "code",
   "execution_count": null,
   "id": "b6ff02dc",
   "metadata": {},
   "outputs": [],
   "source": []
  }
 ],
 "metadata": {
  "kernelspec": {
   "display_name": "Python 3 (ipykernel)",
   "language": "python",
   "name": "python3"
  },
  "language_info": {
   "codemirror_mode": {
    "name": "ipython",
    "version": 3
   },
   "file_extension": ".py",
   "mimetype": "text/x-python",
   "name": "python",
   "nbconvert_exporter": "python",
   "pygments_lexer": "ipython3",
   "version": "3.10.12"
  }
 },
 "nbformat": 4,
 "nbformat_minor": 5
}
