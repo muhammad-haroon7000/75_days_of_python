{
 "cells": [
  {
   "cell_type": "markdown",
   "id": "5f2fb0d4",
   "metadata": {},
   "source": [
    "        -----------------------Lambda Function in Python:----------------------------\n",
    "A __lambda function__ is a small, anonymous (unnamed) function defined using the __lambda__ keyword. They are typically used for simple operations that can be expressed in a single line of code."
   ]
  },
  {
   "cell_type": "markdown",
   "id": "50c1d7b4",
   "metadata": {},
   "source": [
    "        -----------------------Why and Where Do We Need Lambda Functions?-----------------------\n",
    "\n",
    "Lambda functions are useful for:\n",
    "\n",
    "__Short, simple operations:__ When you need a small function for a short period of time, without the need for a full function definition.\n",
    "\n",
    "__Higher-order functions:__ Functions that take other functions as arguments, such as map(), filter(), and sorted().\n",
    "\n",
    "__Event handlers:__ In graphical user interfaces (GUIs) or event-driven programming."
   ]
  },
  {
   "cell_type": "code",
   "execution_count": 1,
   "id": "d93a2dbe",
   "metadata": {},
   "outputs": [
    {
     "data": {
      "text/plain": [
       "<function __main__.<lambda>(arguments)>"
      ]
     },
     "execution_count": 1,
     "metadata": {},
     "output_type": "execute_result"
    }
   ],
   "source": [
    "# Syntax:\n",
    "lambda arguments: expression"
   ]
  },
  {
   "cell_type": "markdown",
   "id": "9f560de5",
   "metadata": {},
   "source": [
    "        -----------------------Simple Lambda Function:------------------------"
   ]
  },
  {
   "cell_type": "code",
   "execution_count": 7,
   "id": "ed5bfc3c",
   "metadata": {},
   "outputs": [
    {
     "name": "stdout",
     "output_type": "stream",
     "text": [
      "Add two number 110\n",
      "suare of a number:  100\n"
     ]
    }
   ],
   "source": [
    "# lambda function to add two numbers\n",
    "\n",
    "add = lambda x , y : x + y\n",
    "\n",
    "print(\"Add two number\",add(10,100))\n",
    "\n",
    "# lambda function with single argument\n",
    "\n",
    "square = lambda x : x ** 2\n",
    "\n",
    "print(\"suare of a number: \",square(10))"
   ]
  },
  {
   "cell_type": "markdown",
   "id": "ed06668b",
   "metadata": {},
   "source": [
    "                ---------------------Using Lambda with map():-----------\n",
    "\n",
    "The __map()__ function applies a given function to all items in an iterable (like a list) and returns a __map object__ (which can be converted to a list)."
   ]
  },
  {
   "cell_type": "code",
   "execution_count": 22,
   "id": "6a1630ca",
   "metadata": {},
   "outputs": [
    {
     "name": "stdout",
     "output_type": "stream",
     "text": [
      "Here you can see the address :  <map object at 0x7f74004136a0>\n",
      "For the first time iterate over on map_object\n",
      "1\n",
      "4\n",
      "9\n",
      "16\n",
      "25\n",
      "For the 2nd time iterate over on map_object (it will be empty)\n",
      "<map object at 0x7f74004136a0>\n",
      "This is the reason we need to convert the map_object into any other data structure like, list , tuple, set\n"
     ]
    }
   ],
   "source": [
    "numbers = [1,2,3,4,5]\n",
    "\n",
    "# map function not store the result once it's iterate .\n",
    "map_object = map(lambda number: number ** 2, numbers)\n",
    "print(\"Here you can see the address : \",map_object)\n",
    "\n",
    "print(\"For the first time iterate over on map_object\")\n",
    "for obj in map_object:\n",
    "    print(obj)\n",
    "\n",
    "print(\"For the 2nd time iterate over on map_object (it will be empty)\")\n",
    "print(map_object)\n",
    "for obj in map_object:\n",
    "    print(\"Here you can see the map_object is empty because it's not store the data once it iterate \", obj)\n",
    "    \n",
    "print(\"This is the reason we need to convert the map_object into any other data structure like, list , tuple, set\")"
   ]
  },
  {
   "cell_type": "code",
   "execution_count": 24,
   "id": "f1b428f3",
   "metadata": {},
   "outputs": [
    {
     "name": "stdout",
     "output_type": "stream",
     "text": [
      "[1, 4, 9, 16, 25]\n"
     ]
    }
   ],
   "source": [
    "# lambda function with map and convert the map_object to list\n",
    "\n",
    "numbers = [1,2,3,4,5]\n",
    "square_numbers = list(map(lambda number: number ** 2, numbers))\n",
    "print(square_numbers)"
   ]
  },
  {
   "cell_type": "code",
   "execution_count": 41,
   "id": "bcb32704",
   "metadata": {},
   "outputs": [
    {
     "name": "stdout",
     "output_type": "stream",
     "text": [
      "['Name: Haroon,  Age:  25', 'Name: Atta,  Age:  26', 'Name: Sarfaraz,  Age:  27', 'Name: Bilal,  Age:  28']\n"
     ]
    }
   ],
   "source": [
    "# lambda function with multiple iteratable \n",
    "\n",
    "names = [\"Haroon\", \"Atta\", \"Sarfaraz\", \"Bilal\"]\n",
    "ages = [25 , 26 , 27 , 28]\n",
    "\n",
    "combined = list(map(lambda name , age : f\"Name: {name},  Age:  {age}\", names, ages))\n",
    "print(combined)"
   ]
  },
  {
   "cell_type": "markdown",
   "id": "0746a6ed",
   "metadata": {},
   "source": [
    "        -----------------------Using Lambda with filter():-----------------\n",
    "\n",
    "The __filter()__ function filters elements from an iterable based on a given function (which returns __True__ or __False__)."
   ]
  },
  {
   "cell_type": "code",
   "execution_count": 25,
   "id": "5d1c3d65",
   "metadata": {},
   "outputs": [
    {
     "name": "stdout",
     "output_type": "stream",
     "text": [
      "[2, 4, 6, 8, 10]\n"
     ]
    }
   ],
   "source": [
    "# lambda function with filter method\n",
    "\n",
    "numbers = [1,2,3,4,5,6,7,8,9,10]\n",
    "\n",
    "even_numbers = list(filter(lambda number : number % 2 == 0, numbers))\n",
    "print(even_numbers)"
   ]
  },
  {
   "cell_type": "markdown",
   "id": "41260af7",
   "metadata": {},
   "source": [
    "        ----------------------Using Lambda with sorted():-------------------\n",
    "\n",
    "The __sorted()__ function sorts an iterable. You can use a lambda function to specify a custom sorting key."
   ]
  },
  {
   "cell_type": "code",
   "execution_count": 34,
   "id": "af554dea",
   "metadata": {},
   "outputs": [
    {
     "name": "stdout",
     "output_type": "stream",
     "text": [
      "sorted by y cordinate: [(0, 0), (3, 1), (1, 2), (2, 4)]\n",
      "sorted by x cordinate: [(0, 0), (1, 2), (2, 4), (3, 1)]\n"
     ]
    }
   ],
   "source": [
    "# apply sorted() functin to set \n",
    "\n",
    "points = [(1, 2), (3, 1), (2, 4), (0, 0)]\n",
    "\n",
    "# Sorting points based on their y-coordinate\n",
    "y_cordinate = sorted(points, key=lambda point: point[1] )\n",
    "print(\"sorted by y cordinate:\",y_cordinate)\n",
    "\n",
    "x_cordinate = sorted(points, key=lambda points: points[0])\n",
    "print(\"sorted by x cordinate:\",x_cordinate)\n"
   ]
  },
  {
   "cell_type": "markdown",
   "id": "b209e86e",
   "metadata": {},
   "source": [
    "        ------------------- Lambda with if/else (Conditional expression):------------\n",
    "\n",
    "Although lambda functions are designed for single expressions, you can use a conditional expression (ternary operator) to include a simple __if/else__ logic:"
   ]
  },
  {
   "cell_type": "code",
   "execution_count": 38,
   "id": "5608a9d0",
   "metadata": {},
   "outputs": [
    {
     "name": "stdout",
     "output_type": "stream",
     "text": [
      "x is greater than y : 100\n",
      "y is greater than x : 20\n"
     ]
    }
   ],
   "source": [
    "\n",
    "condition = lambda x , y : x if x > y else y \n",
    "\n",
    "print(f\"x is greater than y : {condition(100, 20)}\")\n",
    "print(f\"y is greater than x : {condition(10, 20)}\")"
   ]
  },
  {
   "cell_type": "code",
   "execution_count": null,
   "id": "dcb565c1",
   "metadata": {},
   "outputs": [],
   "source": []
  }
 ],
 "metadata": {
  "kernelspec": {
   "display_name": "Python 3 (ipykernel)",
   "language": "python",
   "name": "python3"
  },
  "language_info": {
   "codemirror_mode": {
    "name": "ipython",
    "version": 3
   },
   "file_extension": ".py",
   "mimetype": "text/x-python",
   "name": "python",
   "nbconvert_exporter": "python",
   "pygments_lexer": "ipython3",
   "version": "3.10.12"
  }
 },
 "nbformat": 4,
 "nbformat_minor": 5
}
