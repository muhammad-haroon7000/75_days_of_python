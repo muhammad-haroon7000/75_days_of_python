{
 "cells": [
  {
   "cell_type": "markdown",
   "id": "74875ee6",
   "metadata": {},
   "source": [
    "    -----------------------Built-in Modules:-------------\n",
    "\n",
    "Python comes with a large standard library of modules that provide a wide range of functionalities. You import these modules using the __import__ statement."
   ]
  },
  {
   "cell_type": "code",
   "execution_count": 13,
   "id": "a6d5ed9f",
   "metadata": {},
   "outputs": [
    {
     "name": "stdout",
     "output_type": "stream",
     "text": [
      "current directory: /home/haroon/project_manager/PYTHON\n",
      "New built_in_module created.\n"
     ]
    }
   ],
   "source": [
    "# os module \n",
    "import os\n",
    "\n",
    "# Get the current working directory\n",
    "current_directory = os.getcwd()\n",
    "print(f\"current directory: {current_directory}\")\n",
    "\n",
    "# create a new directory\n",
    "\n",
    "created_dir = 'built_in_module'\n",
    "os.mkdir(created_dir)\n",
    "print(f\"New {created_dir} created.\")\n"
   ]
  },
  {
   "cell_type": "code",
   "execution_count": 26,
   "id": "c87b3569",
   "metadata": {},
   "outputs": [
    {
     "name": "stdout",
     "output_type": "stream",
     "text": [
      "[]\n"
     ]
    }
   ],
   "source": [
    "# List files in the current directory\n",
    "print(os.listdir())"
   ]
  },
  {
   "cell_type": "code",
   "execution_count": 29,
   "id": "a1e3990b",
   "metadata": {},
   "outputs": [
    {
     "name": "stdout",
     "output_type": "stream",
     "text": [
      "['day_11_modules.ipynb', 'day_02_operators.ipynb', '.git', 'day_01_declare_variables.ipynb', '.ipynb_checkpoints', 'day_05_lists.ipynb', 'day_03_condition_statement.ipynb', 'day_06_tuples.ipynb', 'day_08_dictionary.ipynb', 'README.md', 'day_04_loops.ipynb', 'day_09_functions.ipynb', 'day_10_lambda_functions.ipynb', '.gitignore', 'day_07_sets.ipynb', 'built_in_module']\n"
     ]
    }
   ],
   "source": [
    "# Go back to the original directory\n",
    "os.chdir(current_directory)\n",
    "print(os.listdir())"
   ]
  },
  {
   "cell_type": "code",
   "execution_count": 30,
   "id": "1284536c",
   "metadata": {},
   "outputs": [
    {
     "name": "stdout",
     "output_type": "stream",
     "text": [
      "Directory 'built_in_module' removed\n"
     ]
    }
   ],
   "source": [
    "#Remove directory\n",
    "os.rmdir(created_dir)\n",
    "\n",
    "print(f\"Directory '{created_dir}' removed\")"
   ]
  },
  {
   "cell_type": "markdown",
   "id": "6200208a",
   "metadata": {},
   "source": [
    "    -----------------Other Common Built-in Modules:------\n",
    "\n",
    "__math__: Mathematical functions (e.g., sqrt(), sin(), cos()).\n",
    "\n",
    "__datetime__: Working with dates and times.\n",
    "\n",
    "__random__: Generating random numbers.\n",
    "\n",
    "__json__: Working with JSON data.\n",
    "\n",
    "__re__: Regular expressions.\n",
    "\n",
    "__sys__: System-specific parameters and functions.\n",
    "\n",
    "__urllib__: Working with URLs."
   ]
  },
  {
   "cell_type": "markdown",
   "id": "957488ef",
   "metadata": {},
   "source": [
    "        ----------------Custom Modules: ----------------\n",
    " I create two module ,  \n",
    " __Add__ , which add two number and return it's result  \n",
    " __greet__, Greet a person with title and name \n",
    " "
   ]
  },
  {
   "cell_type": "code",
   "execution_count": 15,
   "id": "4ec808b5",
   "metadata": {},
   "outputs": [
    {
     "name": "stdout",
     "output_type": "stream",
     "text": [
      "Help on function Add in module day_11_custome_modules.custom_module:\n",
      "\n",
      "Add(x, y)\n",
      "    Add two numbers\n",
      "\n",
      "Sum of two number is: 30\n"
     ]
    }
   ],
   "source": [
    "# import custom module\n",
    "\n",
    "import day_11_custome_modules.custom_module as custom_module\n",
    "\n",
    "\n",
    "help(custom_module.Add)\n",
    "\n",
    "print(f\"Sum of two number is:\",custom_module.Add(10,20))"
   ]
  },
  {
   "cell_type": "code",
   "execution_count": 10,
   "id": "eb49b6e1",
   "metadata": {},
   "outputs": [
    {
     "name": "stdout",
     "output_type": "stream",
     "text": [
      "Help on function greet in module day_11_custome_modules.custom_module:\n",
      "\n",
      "greet(name, title='Mr.')\n",
      "    Greet a person by name with title\n",
      "    Args:\n",
      "        name: The first argument.\n",
      "        title: The second argument.\n",
      "      Hello, {title} {name}\n",
      "\n"
     ]
    }
   ],
   "source": [
    "# let work with 2nd custom module\n",
    "\n",
    "help(custom_module.greet)"
   ]
  },
  {
   "cell_type": "code",
   "execution_count": 14,
   "id": "3de762e0",
   "metadata": {},
   "outputs": [
    {
     "name": "stdout",
     "output_type": "stream",
     "text": [
      "Hello, Mr. Haroon\n",
      "Hello, Ms. Haroon\n"
     ]
    }
   ],
   "source": [
    "custom_module.greet('Haroon')\n",
    "custom_module.greet('Haroon', 'Ms.' )"
   ]
  },
  {
   "cell_type": "code",
   "execution_count": null,
   "id": "b4366cf0",
   "metadata": {},
   "outputs": [],
   "source": []
  }
 ],
 "metadata": {
  "kernelspec": {
   "display_name": "Python 3 (ipykernel)",
   "language": "python",
   "name": "python3"
  },
  "language_info": {
   "codemirror_mode": {
    "name": "ipython",
    "version": 3
   },
   "file_extension": ".py",
   "mimetype": "text/x-python",
   "name": "python",
   "nbconvert_exporter": "python",
   "pygments_lexer": "ipython3",
   "version": "3.10.12"
  }
 },
 "nbformat": 4,
 "nbformat_minor": 5
}
