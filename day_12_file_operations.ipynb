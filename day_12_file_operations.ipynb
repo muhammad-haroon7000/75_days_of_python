{
 "cells": [
  {
   "cell_type": "markdown",
   "id": "f1b84fff",
   "metadata": {},
   "source": [
    "        -----------------------File Operation in Python----------------------\n",
    "File operations are a fundamental part of programming, allowing you to read data from and write data to files on your computer's file system. Python provides built-in functions to handle various file operations."
   ]
  },
  {
   "cell_type": "markdown",
   "id": "e64f3f96",
   "metadata": {},
   "source": [
    "        ------------------------Opening a File-----------------------\n",
    "The __open()__ function is used to open a file\n",
    "\n",
    "__open(filename , mode)__  \n",
    "\n",
    "__filename:__ The name of the file (including the path if it's not in the current directory).  \n",
    "__mode:__ A string specifying the mode in which the file is opened."
   ]
  },
  {
   "cell_type": "markdown",
   "id": "3eddbfd5",
   "metadata": {},
   "source": [
    "        -----------------------File Modes-----------------------------\n",
    "__File Modes:__\n",
    "\n",
    "__Mode__\t  __Description__  \n",
    "__'r'__           Read (default). Opens the file for reading. Raises an error if the file does not exist.  \n",
    "__'w'__\t          Write. Opens the file for writing. Creates the file if it does not exist. Overwrites the file if it exists.  \n",
    "__'x'__        \t Exclusive creation. Opens the file for exclusive creation. If the file already exists, the operation fails.  \n",
    "__'a'__\t         Append. Opens the file for appending. Creates the file if it does not exist. Data is written to the end of the file.  \n",
    "__'b'__\t         Binary mode. Used for binary files (e.g., images, audio). Should be combined with other modes (e.g.,  'rb', 'wb').  \n",
    "__'t'__\t         Text mode (default). Used for text files.  \n",
    "__'+'__\t         Update (reading and writing). Can be combined with other modes (e.g., 'r+', 'w+').  "
   ]
  },
  {
   "cell_type": "markdown",
   "id": "36071551",
   "metadata": {},
   "source": [
    "        ---------------------Writing to a File:----------------\n",
    "\n",
    "The __write()__ method is used to write data to a file."
   ]
  },
  {
   "cell_type": "code",
   "execution_count": 2,
   "id": "9eae8e94",
   "metadata": {},
   "outputs": [],
   "source": [
    "try:\n",
    "    file = open('day_12_operation.txt', 'w')\n",
    "    \n",
    "    \n",
    "    file.write('This is the first line \\n')\n",
    "    file.write('This is the second line \\n')\n",
    "    #Writing multiple lines from a list\n",
    "    file.writelines([\"This is line 3 \\n\", \"This is line 4 \\n\"])\n",
    "    file.write(\"Data written to file.\")\n",
    "\n",
    "except Exception as e:\n",
    "    print(f\"Error: {e}\")\n",
    "finally:\n",
    "    if 'file' in locals():\n",
    "        file.close()"
   ]
  },
  {
   "cell_type": "markdown",
   "id": "df127af4",
   "metadata": {},
   "source": [
    "                ----------------Reading from a File:----------\n",
    "\n",
    "There are several ways to read data from a file:  \n",
    "\n",
    "__read()__: Reads the entire file content as a single string.  \n",
    "__readline()__: Reads a single line from the file.  \n",
    "__readlines()__: Reads all lines from the file and returns them as a list of strings.1"
   ]
  },
  {
   "cell_type": "code",
   "execution_count": 10,
   "id": "d91b7832",
   "metadata": {},
   "outputs": [
    {
     "name": "stdout",
     "output_type": "stream",
     "text": [
      "Read the entire content of a file: This is the first line \n",
      "This is the second line \n",
      "This is line 3 \n",
      "This is line 4 \n",
      "Data written to file.\n",
      "\n",
      "___Read line by line___\n",
      "This is the first line \n",
      "This is the second line \n",
      "This is line 3 \n",
      "This is line 4 \n",
      "Data written to file.\n",
      " All lines as a list: ['This is the first line \\n', 'This is the second line \\n', 'This is line 3 \\n', 'This is line 4 \\n', 'Data written to file.']\n"
     ]
    }
   ],
   "source": [
    "try:\n",
    "    # Read a line from a file \n",
    "    file = open('day_12_operation.txt', 'r')\n",
    "    \n",
    "    # Read the entire file\n",
    "    entire_content = file.read()\n",
    "    print(f\"Read the entire content of a file: {entire_content}\\n\")\n",
    "    ##Reset file pointer to the beginning of the file\n",
    "    file.seek(0)\n",
    "    \n",
    "    print(\"___Read line by line___\")\n",
    "    for line in file:\n",
    "        print(line , end = \"\") # # end=\"\" prevents double newlines\n",
    "    \n",
    "    #Reset file pointer to the beginning of the file\n",
    "    file.seek(0)\n",
    "    # Read all lines into a list\n",
    "    list_of_lines = file.readlines()\n",
    "    print(\"\\n All lines as a list:\", list_of_lines)\n",
    "\n",
    "except FileNotFoundError:\n",
    "    print('File not found:)')\n",
    "finally:\n",
    "    if 'file' in locals():\n",
    "        file.close()"
   ]
  },
  {
   "cell_type": "markdown",
   "id": "6bb5bbea",
   "metadata": {},
   "source": [
    "                --------------The with Statement (Recommended):--------\n",
    "\n",
    "The __with__ statement is the recommended way to work with files. It automatically handles closing the file, even if errors occur."
   ]
  },
  {
   "cell_type": "code",
   "execution_count": 12,
   "id": "a194a9e8",
   "metadata": {},
   "outputs": [
    {
     "name": "stdout",
     "output_type": "stream",
     "text": [
      "This is the first line \n",
      "This is the second line \n",
      "This is line 3 \n",
      "This is line 4 \n",
      "Data written to file.\n",
      "-----------------------------------------------------------------------\n",
      "Data written to file using with statement\n"
     ]
    }
   ],
   "source": [
    "try:\n",
    "    with open(\"day_12_operation.txt\", \"r\") as file:\n",
    "        content = file.read()\n",
    "        print(content)\n",
    "\n",
    "    with open(\"day_12_operation_with.txt\", \"w\") as file:\n",
    "        file.write(\"This is a line written using 'with'.\\n\")\n",
    "        \n",
    "    print(\"-----------------------------------------------------------------------\")\n",
    "    print(\"Data written to file using with statement\")\n",
    "except FileNotFoundError:\n",
    "    print(\"File not found.\")\n",
    "except Exception as e:\n",
    "    print(f\"An error occurred: {e}\")"
   ]
  },
  {
   "cell_type": "code",
   "execution_count": null,
   "id": "ba126156",
   "metadata": {},
   "outputs": [],
   "source": []
  }
 ],
 "metadata": {
  "kernelspec": {
   "display_name": "Python 3 (ipykernel)",
   "language": "python",
   "name": "python3"
  },
  "language_info": {
   "codemirror_mode": {
    "name": "ipython",
    "version": 3
   },
   "file_extension": ".py",
   "mimetype": "text/x-python",
   "name": "python",
   "nbconvert_exporter": "python",
   "pygments_lexer": "ipython3",
   "version": "3.10.12"
  }
 },
 "nbformat": 4,
 "nbformat_minor": 5
}
