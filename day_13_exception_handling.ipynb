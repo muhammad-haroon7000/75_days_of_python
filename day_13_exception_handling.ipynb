{
 "cells": [
  {
   "cell_type": "markdown",
   "id": "1c76aef5",
   "metadata": {},
   "source": [
    "        -----------------------Exception Handling in Python----------------------\n",
    "__What are Exceptions?__  \n",
    "\n",
    "Exceptions are events that disrupt the normal flow of a program's execution. They can be caused by various reasons, such as:\n",
    "\n",
    "__Division by zero__: 10 / 0  \n",
    "__File not found__: Trying to open a file that doesn't exist.  \n",
    "__Invalid input__: Providing incorrect data to a function.  \n",
    "__Type errors__: Performing operations on incompatible data types.  \n",
    "__Index errors__: Accessing an index that is out of range in a list or tuple."
   ]
  },
  {
   "cell_type": "code",
   "execution_count": 1,
   "id": "ee275b7e",
   "metadata": {},
   "outputs": [
    {
     "name": "stdout",
     "output_type": "stream",
     "text": [
      "Enter a number: 123\n",
      "Enter another number: h\n",
      "Error: Invalid input. Please enter numbers only.\n",
      "This block always executes.\n"
     ]
    }
   ],
   "source": [
    "try:\n",
    "    num1 = int(input(\"Enter a number: \"))\n",
    "    num2 = int(input(\"Enter another number: \"))\n",
    "    result = num1 / num2\n",
    "    print(\"Result:\", result)\n",
    "except ZeroDivisionError:\n",
    "    print(\"Error: Cannot divide by zero.\")\n",
    "except ValueError:\n",
    "    print(\"Error: Invalid input. Please enter numbers only.\")\n",
    "except Exception as e: # Catching a general exception. It is good practice to put this at the end\n",
    "    print(f\"An unexpected error occurred: {e}\")\n",
    "else:\n",
    "    print(\"Division successful.\")\n",
    "finally:\n",
    "    print(\"This block always executes.\")"
   ]
  },
  {
   "cell_type": "code",
   "execution_count": 2,
   "id": "77c9594b",
   "metadata": {},
   "outputs": [
    {
     "name": "stdout",
     "output_type": "stream",
     "text": [
      "Enter a number: 123\n",
      "Enter another number: 123\n",
      "Result: 1.0\n",
      "Division successful.\n",
      "This block always executes.\n"
     ]
    }
   ],
   "source": [
    "try:\n",
    "    num1 = int(input(\"Enter a number: \"))\n",
    "    num2 = int(input(\"Enter another number: \"))\n",
    "    result = num1 / num2\n",
    "    print(\"Result:\", result)\n",
    "except ZeroDivisionError:\n",
    "    print(\"Error: Cannot divide by zero.\")\n",
    "except ValueError:\n",
    "    print(\"Error: Invalid input. Please enter numbers only.\")\n",
    "except Exception as e: # Catching a general exception. It is good practice to put this at the end\n",
    "    print(f\"An unexpected error occurred: {e}\")\n",
    "else:\n",
    "    print(\"Division successful.\")\n",
    "finally:\n",
    "    print(\"This block always executes.\")"
   ]
  },
  {
   "cell_type": "code",
   "execution_count": null,
   "id": "88ec988c",
   "metadata": {},
   "outputs": [],
   "source": []
  }
 ],
 "metadata": {
  "kernelspec": {
   "display_name": "Python 3 (ipykernel)",
   "language": "python",
   "name": "python3"
  },
  "language_info": {
   "codemirror_mode": {
    "name": "ipython",
    "version": 3
   },
   "file_extension": ".py",
   "mimetype": "text/x-python",
   "name": "python",
   "nbconvert_exporter": "python",
   "pygments_lexer": "ipython3",
   "version": "3.10.12"
  }
 },
 "nbformat": 4,
 "nbformat_minor": 5
}
