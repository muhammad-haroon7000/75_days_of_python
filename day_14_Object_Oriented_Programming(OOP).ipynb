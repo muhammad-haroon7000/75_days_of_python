{
 "cells": [
  {
   "cell_type": "markdown",
   "id": "fd2ed1ca",
   "metadata": {},
   "source": [
    "            -----------------------What is Object-Oriented Programming (OOP)?-------------------\n",
    "\n",
    "__OOP__ is a programming paradigm that revolves around the concept of \"__objects__,\" which are self-contained entities that have both __data (attributes)__ and __behavior (methods)__. __OOP principles__ help organize code into reusable and manageable units, making it easier to develop complex software."
   ]
  },
  {
   "cell_type": "markdown",
   "id": "95c1d747",
   "metadata": {},
   "source": [
    "            -----------------------Key Concepts in OOP:---------------------------\n",
    "\n",
    "__Class__: A blueprint or template for creating objects. It defines the attributes (data) and methods (behavior) that objects of that class will have.  \n",
    "__Object (Instance)__: A specific instance of a class. It's a concrete entity created based on the class blueprint.  \n",
    "__Attributes__: The data associated with an object (variables).  \n",
    "__Methods__: The actions or functions that an object can perform (functions within a class)."
   ]
  },
  {
   "cell_type": "code",
   "execution_count": 3,
   "id": "b8c64299",
   "metadata": {},
   "outputs": [],
   "source": [
    "class ClassName:\n",
    "    # Create class attribute\n",
    "    class_attribute = \"like this we can create attribute \"\n",
    "    \n",
    "    # Constructor (initializer method )\n",
    "    def __init__(self, paramater1, paramater2):\n",
    "        # Instance attributes\n",
    "        self.attribute1 = paramater1\n",
    "        self.attribute2 = paramater2\n",
    "        \n",
    "    # Method\n",
    "    def method1():\n",
    "        # code for method 1\n",
    "        return some_value\n",
    "    \n",
    "\n",
    "# Creation of Object\n",
    "\n",
    "Object_Name = ClassName('argument1', 'argument2')\n",
    "    "
   ]
  },
  {
   "cell_type": "code",
   "execution_count": 13,
   "id": "b66d755a",
   "metadata": {},
   "outputs": [
    {
     "name": "stdout",
     "output_type": "stream",
     "text": [
      "Account Number 123456789, Account Holder Haroon Masood, Current balance 1000\n",
      "Account Number 987654321, Account Holder Atta Ullah, Current balance 0\n",
      "Deposited $500. New balance: $1500\n",
      "Deposited $500. New balance: $500\n",
      "Account H balance: $1500\n",
      "Account A balance: $500\n"
     ]
    }
   ],
   "source": [
    "class BankAccount:\n",
    "    \n",
    "    def __init__(self, account_number, account_holder_name, balance = 0):\n",
    "        self.account_number = account_number\n",
    "        self.account_holder_name = account_holder_name\n",
    "        self.balance = balance\n",
    "        \n",
    "    # Depost Methos\n",
    "    def depost(self, amount):\n",
    "        if amount > 0:\n",
    "            self.balance += amount\n",
    "            print(f\"Deposited ${amount}. New balance: ${self.balance}\")\n",
    "        else:\n",
    "            print(\"Invalid deposit amount\")\n",
    "    \n",
    "    # withdraw method\n",
    "    def withdraw(self,amount):\n",
    "        if 0 < amount <= self.balance:\n",
    "            self.balance -= amount\n",
    "            print(f\"Withdrawn ${amount}. New balance: ${self.balance}\")\n",
    "        elif amount <= 0:\n",
    "            print(\"invalid amount\")\n",
    "        else:\n",
    "            print(\"Insufficient funds.\")\n",
    "    \n",
    "    # checking balance\n",
    "    def get_balance(self):\n",
    "        return self.balance\n",
    "        \n",
    "    \n",
    "    def __str__(self):\n",
    "        return f\"Account Number {self.account_number}, Account Holder {self.account_holder_name}, Current balance {self.balance}\"\n",
    "    \n",
    "    \n",
    "    # Creating BankAccount objects (instances)\n",
    "h_account = BankAccount(123456789,'Haroon Masood', 1000)\n",
    "a_account = BankAccount(987654321, 'Atta Ullah', )\n",
    "    \n",
    "    \n",
    "    # Performing operations on the accounts\n",
    "    \n",
    "print(h_account)\n",
    "print(a_account)\n",
    "\n",
    "\n",
    "h_account.depost(500)\n",
    "a_account.depost(500)\n",
    "\n",
    "print(f\"Account H balance: ${h_account.get_balance()}\")\n",
    "print(f\"Account A balance: ${a_account.get_balance()}\")"
   ]
  },
  {
   "cell_type": "code",
   "execution_count": 17,
   "id": "ea44e77b",
   "metadata": {},
   "outputs": [
    {
     "name": "stdout",
     "output_type": "stream",
     "text": [
      "Withdrawn $200. New balance: $900\n",
      "Withdrawn $100. New balance: $400\n"
     ]
    }
   ],
   "source": [
    "# Withdraw \n",
    "\n",
    "h_account.withdraw(200)\n",
    "a_account.withdraw(100)"
   ]
  },
  {
   "cell_type": "markdown",
   "id": "de9f72e1",
   "metadata": {},
   "source": [
    "            -----------------Purpose of __str__():-----------\n",
    "\n",
    "The __str__() method is a special method (also known as a \"magic method\" or \"dunder method\" because of the double underscores) that defines the \"informal\" or \"user-friendly\" string representation of an object. Its primary purpose is to provide a human-readable string that describes the object."
   ]
  },
  {
   "cell_type": "code",
   "execution_count": 20,
   "id": "3c329763",
   "metadata": {},
   "outputs": [
    {
     "name": "stdout",
     "output_type": "stream",
     "text": [
      "Account Number 123456789, Account Holder Haroon Masood, Current balance 900\n"
     ]
    }
   ],
   "source": [
    "print(h_account)"
   ]
  },
  {
   "cell_type": "code",
   "execution_count": null,
   "id": "4f9a4a2d",
   "metadata": {},
   "outputs": [],
   "source": []
  }
 ],
 "metadata": {
  "kernelspec": {
   "display_name": "Python 3 (ipykernel)",
   "language": "python",
   "name": "python3"
  },
  "language_info": {
   "codemirror_mode": {
    "name": "ipython",
    "version": 3
   },
   "file_extension": ".py",
   "mimetype": "text/x-python",
   "name": "python",
   "nbconvert_exporter": "python",
   "pygments_lexer": "ipython3",
   "version": "3.10.12"
  }
 },
 "nbformat": 4,
 "nbformat_minor": 5
}
