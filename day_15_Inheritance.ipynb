{
 "cells": [
  {
   "cell_type": "markdown",
   "id": "9a636ac0",
   "metadata": {},
   "source": [
    "        -------------------------Inheritance---------\n",
    "__Inheritance__ is a fundamental concept in Object-Oriented Programming (OOP) that allows you to create new classes based on existing classes.  \n",
    "The new classes inherit the attributes and methods of the existing classes, promoting code reuse and establishing relationships between "
   ]
  },
  {
   "cell_type": "markdown",
   "id": "c2d772df",
   "metadata": {},
   "source": [
    "__Terminology:__\n",
    "\n",
    "__Parent Class (Superclass, Base Class)__: The class being inherited from.  \n",
    "__Child Class (Subclass, Derived Class)__: The class that inherits from the parent class."
   ]
  },
  {
   "cell_type": "code",
   "execution_count": 58,
   "id": "540ded57",
   "metadata": {},
   "outputs": [],
   "source": [
    "class Product:\n",
    "    def __init__(self,product_id,name,price,description):\n",
    "        self.product_id = product_id\n",
    "        self.name = name\n",
    "        self.price = price\n",
    "        self.description = description\n",
    "        \n",
    "    def __str__(self):\n",
    "        return f\"{self.name}, (${self.price:.2f})\"\n",
    "\n"
   ]
  },
  {
   "cell_type": "markdown",
   "id": "f4b6b24b",
   "metadata": {},
   "source": [
    " __Child Class (Subclass, Derived Class)__: The class that inherits from the parent class."
   ]
  },
  {
   "cell_type": "code",
   "execution_count": 59,
   "id": "e581473c",
   "metadata": {},
   "outputs": [],
   "source": [
    " #Inherits from Product class\n",
    "class ElectronicProduct(Product):\n",
    "                        \n",
    "    def __init__(self,product_id,name,price,description,warrenty_period):\n",
    "            # to avoid parent class initilization use super()\n",
    "            super().__init__(product_id,name,price,description)\n",
    "            self.warrenty_period = warrenty_period\n",
    "                        \n",
    "    def __str__(self):\n",
    "        return f\"{super().__str__()} (Warrenty): {self.warrenty_period} years\"\n"
   ]
  },
  {
   "cell_type": "code",
   "execution_count": 60,
   "id": "3becf9f0",
   "metadata": {},
   "outputs": [
    {
     "name": "stdout",
     "output_type": "stream",
     "text": [
      "Laptop, ($1200.00) (Warrenty): 1 years\n"
     ]
    }
   ],
   "source": [
    "#object 1\n",
    "laptop = ElectronicProduct(1, \"Laptop\", 1200, \"High-performance laptop\", 1)\n",
    "print(laptop)"
   ]
  },
  {
   "cell_type": "code",
   "execution_count": 61,
   "id": "47bca03e",
   "metadata": {},
   "outputs": [
    {
     "name": "stdout",
     "output_type": "stream",
     "text": [
      "Smart Phone, ($800.00) (Warrenty): 2 years\n"
     ]
    }
   ],
   "source": [
    "# Object 2\n",
    "phone = ElectronicProduct(3, \"Smart Phone\", 800, \"New Smart Phone\", 2)\n",
    "print(phone)"
   ]
  },
  {
   "cell_type": "code",
   "execution_count": 62,
   "id": "dc39acee",
   "metadata": {},
   "outputs": [],
   "source": [
    "# New class\n",
    "\n",
    "class ClothingProduct(Product):\n",
    "    def __init__(self,product_id,name,price,description,size, material):\n",
    "        super().__init__(product_id,name,price,description)\n",
    "        self.size = size\n",
    "        self.material = material\n",
    "    \n",
    "    def __str__(self):\n",
    "        return f\" {super().__str__()} (Size: {self.size}), Material: {self.material}\"\n",
    "    "
   ]
  },
  {
   "cell_type": "code",
   "execution_count": 63,
   "id": "9b99a184",
   "metadata": {},
   "outputs": [
    {
     "name": "stdout",
     "output_type": "stream",
     "text": [
      " T-Shirt, ($25.00) (Size: M), Material: Cotton\n"
     ]
    }
   ],
   "source": [
    "# Object of ClothingProduct\n",
    "t_shirt = ClothingProduct(2, \"T-Shirt\", 25, \"Cotton T-Shirt\", \"M\", \"Cotton\")\n",
    "print(t_shirt)"
   ]
  },
  {
   "cell_type": "code",
   "execution_count": 64,
   "id": "423797e4",
   "metadata": {},
   "outputs": [],
   "source": [
    "class Customer:\n",
    "    def __init__(self, customer_id, name, email):\n",
    "        self.customer_id = customer_id\n",
    "        self.name = name\n",
    "        self.email = email\n",
    "        self.orders = []\n",
    "    \n",
    "    def place_order(self, order):\n",
    "        self.orders.append(order)\n",
    "        print(f\"{self.name}, placed a order \")\n",
    "    \n",
    "    def __str__(self):\n",
    "        return f\"Customer: {self.name} ({self.email})\""
   ]
  },
  {
   "cell_type": "code",
   "execution_count": 65,
   "id": "a4289a6c",
   "metadata": {},
   "outputs": [],
   "source": [
    "class Order:\n",
    "    def __init__(self, order_id, customer):\n",
    "        self.order_id = order_id\n",
    "        self.customer = customer\n",
    "        self.items = []\n",
    "        self.order_status = \"Pending\"\n",
    "\n",
    "    def add_item(self, product, quantity):\n",
    "        self.items.append({\"product\": product, \"quantity\": quantity})\n",
    "\n",
    "    def calculate_total(self):\n",
    "        total = 0\n",
    "        for item in self.items:\n",
    "            total += item[\"product\"].price * item[\"quantity\"]\n",
    "        return total\n",
    "\n",
    "    def confirm_order(self):\n",
    "        self.order_status = \"Confirmed\"\n",
    "        print(\"Order Confirmed\")\n",
    "    \n",
    "    def remove_item(self, product):\n",
    "        for item in self.items:\n",
    "            if item[\"product\"] == product:\n",
    "                self.items.remove(item)\n",
    "                print(f\"{product.name} removed from order.\")\n",
    "                return  # Exit the function after removing the item\n",
    "        print(f\"{product.name} not found in order.\") #If product not found\n",
    "    \n",
    "    def __str__(self):\n",
    "        order_details = f\"Order ID: {self.order_id}\\nCustomer: {self.customer.name}\\nItems:\\n\"\n",
    "        for item in self.items:\n",
    "            order_details += f\"  - {item['product']} x {item['quantity']}\\n\"\n",
    "        order_details += f\"Total: ${self.calculate_total():.2f}\\nStatus:{self.order_status}\"\n",
    "        return order_details\n"
   ]
  },
  {
   "cell_type": "code",
   "execution_count": 66,
   "id": "780ed6f7",
   "metadata": {},
   "outputs": [
    {
     "name": "stdout",
     "output_type": "stream",
     "text": [
      "Customer: Alice Smith (alice@example.com)\n"
     ]
    }
   ],
   "source": [
    "# Creating a customer\n",
    "customer1 = Customer(101, \"Alice Smith\", \"alice@example.com\")\n",
    "print(customer1)"
   ]
  },
  {
   "cell_type": "code",
   "execution_count": 67,
   "id": "9f3d4793",
   "metadata": {},
   "outputs": [],
   "source": [
    "# Creating an order\n",
    "order1 = Order(201, customer1)\n",
    "order1.add_item(laptop, 1)\n",
    "order1.add_item(t_shirt, 2)"
   ]
  },
  {
   "cell_type": "code",
   "execution_count": 70,
   "id": "26dffd3a",
   "metadata": {},
   "outputs": [
    {
     "name": "stdout",
     "output_type": "stream",
     "text": [
      "Alice Smith, placed a order \n",
      "Order ID: 201\n",
      "Customer: Alice Smith\n",
      "Items:\n",
      "  -  T-Shirt, ($25.00) (Size: M), Material: Cotton x 2\n",
      "Total: $50.00\n",
      "Status:Confirmed\n",
      "Laptop not found in order.\n",
      "___________________________________________________________\n",
      "Order Confirmed\n",
      "Order ID: 201\n",
      "Customer: Alice Smith\n",
      "Items:\n",
      "  -  T-Shirt, ($25.00) (Size: M), Material: Cotton x 2\n",
      "Total: $50.00\n",
      "Status:Confirmed\n"
     ]
    }
   ],
   "source": [
    "customer1.place_order(order1)\n",
    "print(order1)\n",
    "\n",
    "order1.remove_item(laptop)\n",
    "print(\"___________________________________________________________\")\n",
    "order1.confirm_order()\n",
    "print(order1)"
   ]
  },
  {
   "cell_type": "code",
   "execution_count": null,
   "id": "92316496",
   "metadata": {},
   "outputs": [],
   "source": []
  },
  {
   "cell_type": "code",
   "execution_count": null,
   "id": "09f49b9e",
   "metadata": {},
   "outputs": [],
   "source": []
  }
 ],
 "metadata": {
  "kernelspec": {
   "display_name": "Python 3 (ipykernel)",
   "language": "python",
   "name": "python3"
  },
  "language_info": {
   "codemirror_mode": {
    "name": "ipython",
    "version": 3
   },
   "file_extension": ".py",
   "mimetype": "text/x-python",
   "name": "python",
   "nbconvert_exporter": "python",
   "pygments_lexer": "ipython3",
   "version": "3.10.12"
  }
 },
 "nbformat": 4,
 "nbformat_minor": 5
}
