{
 "cells": [
  {
   "cell_type": "markdown",
   "id": "34f993fc",
   "metadata": {},
   "source": [
    "            ---------------------What is Polymorphism?----------\n",
    "\n",
    "The word __\"polymorphism\"__ comes from Greek and means __\"many forms.\"__ In programming, it refers to the ability of something to exist in multiple forms or to take on multiple forms. In Object-Oriented Programming (OOP), polymorphism allows objects of different classes to respond to the same method call in their own specific ways."
   ]
  },
  {
   "cell_type": "markdown",
   "id": "bc75ef66",
   "metadata": {},
   "source": [
    "            ------------------------Analogy:------------------\n",
    "\n",
    "Think of a __\"vehicle.\"__ A vehicle can be a car, a bicycle, a boat, or a plane.  \n",
    "They are all vehicles, but they have different ways of \"moving.\"  \n",
    "- A car drives.  \n",
    "- A bicycle pedals.   \n",
    "- A boat floats.  \n",
    "- A plane flies.  \n",
    "\n",
    "The action of __\"moving\"__ is polymorphic because it has different implementations depending on the specific type of vehicle."
   ]
  },
  {
   "cell_type": "markdown",
   "id": "da8a2838",
   "metadata": {},
   "source": [
    "            ------------------Two Main Types of Polymorphism in Python:------------\n",
    "\n",
    "Python achieves polymorphism in two primary ways:"
   ]
  },
  {
   "cell_type": "markdown",
   "id": "b8f450e3",
   "metadata": {},
   "source": [
    "###### Duck Typing (Implicit Polymorphism):\n",
    "\"If it walks like a duck and quacks like a duck, then it must be a duck.\"  \n",
    "This means that if an object has the methods and attributes you need, you can use it as if it were of a certain type, regardless of its actual class. Python doesn't explicitly check the object's type as long as it has the required methods."
   ]
  },
  {
   "cell_type": "markdown",
   "id": "b4f4e423",
   "metadata": {},
   "source": [
    "###### Method Overriding (Inheritance-based Polymorphism):  \n",
    "When a subclass (child class) provides its own implementation of a method that is already defined in its superclass (parent class), it's called method overriding. This allows objects of different classes in the same inheritance hierarchy to respond differently to the same method call."
   ]
  },
  {
   "cell_type": "markdown",
   "id": "aafbfcec",
   "metadata": {},
   "source": [
    "        ----------------Example of Duck Typing:------------------------"
   ]
  },
  {
   "cell_type": "code",
   "execution_count": 4,
   "id": "9cf1e321",
   "metadata": {},
   "outputs": [
    {
     "name": "stdout",
     "output_type": "stream",
     "text": [
      "Woof!\n",
      "Meow!\n"
     ]
    }
   ],
   "source": [
    "class Dog:\n",
    "    def speak(self):\n",
    "        print(\"Woof!\")\n",
    "        \n",
    "class Cat:\n",
    "    def speak(self):\n",
    "        print(\"Meow!\")\n",
    "        \n",
    "# Duck typing\n",
    "# It is not checking the type of animal\n",
    "def make_sound(animal_object):\n",
    "    animal_object.speak()\n",
    "    \n",
    "\n",
    "# Object of spiece of animal \n",
    "my_dog = Dog()\n",
    "my_cat = Cat()\n",
    "\n",
    "\n",
    "#let's call make_sound method and pass animal object\n",
    "\n",
    "make_sound(my_dog) # Output: Woof!\n",
    "make_sound(my_cat) # Ouput: Meow!"
   ]
  },
  {
   "cell_type": "code",
   "execution_count": 6,
   "id": "81e03aa7",
   "metadata": {},
   "outputs": [
    {
     "name": "stdout",
     "output_type": "stream",
     "text": [
      "Chirp\n"
     ]
    }
   ],
   "source": [
    "class Bird: #New class with same method name\n",
    "    def speak(self):\n",
    "        print(\"Chirp\")\n",
    "\n",
    "my_bird = Bird()\n",
    "make_sound(my_bird) # Ouput: Chirp"
   ]
  },
  {
   "cell_type": "markdown",
   "id": "f21e1907",
   "metadata": {},
   "source": [
    "__NOTE__  \n",
    "In Above example  \n",
    "The __make_sound()__ function doesn't check if the __animal_object__ is a __Dog__ or a __Cat__. It only checks if the __animal_object__ has a __speak()__ method. This is __duck typing__."
   ]
  },
  {
   "cell_type": "markdown",
   "id": "356450ac",
   "metadata": {},
   "source": [
    "        ------------------Example of Method Overriding:-----------"
   ]
  },
  {
   "cell_type": "code",
   "execution_count": 19,
   "id": "9b472c3d",
   "metadata": {},
   "outputs": [
    {
     "name": "stdout",
     "output_type": "stream",
     "text": [
      "Woof!\n",
      "Generic animal sound\n",
      "neigh!\n"
     ]
    }
   ],
   "source": [
    "class Animal():\n",
    "    def make_sound(self):\n",
    "        print(\"Generic animal sound\")\n",
    "\n",
    "#inherite animal class\n",
    "\n",
    "class Dog(Animal):\n",
    "    def make_sound(self): #Method overriding\n",
    "        print(\"Woof!\")\n",
    "        \n",
    "class Cat(Animal):\n",
    "    def own_sound(self): # not overriding parent class method\n",
    "        print(\"Meow!\")\n",
    "        \n",
    "class Horse(Animal):\n",
    "    def make_sound(self): #Method overriding\n",
    "        print(\"neigh!\")\n",
    "        \n",
    "def animal_talk(animal): # animal can be of type Animal or its subclasses\n",
    "    animal.make_sound()\n",
    "    \n",
    "    \n",
    "my_animal = Animal()\n",
    "\n",
    "my_dog = Dog()\n",
    "my_cat = Cat()\n",
    "my_horse = Horse()\n",
    "\n",
    "animal_talk(my_dog) # override it's parent class method\n",
    "animal_talk(my_cat) # call it's parent class method\n",
    "animal_talk(my_horse)"
   ]
  },
  {
   "cell_type": "markdown",
   "id": "228d735a",
   "metadata": {},
   "source": [
    "    -----------------------Where is Polymorphism Used?-----------\n",
    "\n",
    "Polymorphism is used in many situations in programming, including:\n",
    "\n",
    "- GUI frameworks: Handling different types of user interface elements (buttons, text boxes, etc.).  \n",
    "- Game development: Managing different types of game characters or objects.  \n",
    "- Data processing: Working with different types of data sources or formats.  \n",
    "- Plugin systems: Allowing different plugins to be used interchangeably  "
   ]
  },
  {
   "cell_type": "markdown",
   "id": "1aa0248f",
   "metadata": {},
   "source": [
    "    ---------------------Abstract Base Classes (ABCs) and the abc Module:------------\n",
    "\n",
    "The abc module provides a way to define interfaces (contracts) that classes must adhere to.  \n",
    "It's a way to make polymorphism more explicit and enforce certain methods to be implemented in subclasses.  \n",
    "It is used to solve the problem of __duck typing__ that errors are detected at runtime."
   ]
  },
  {
   "cell_type": "code",
   "execution_count": 24,
   "id": "3caa00c7",
   "metadata": {},
   "outputs": [
    {
     "name": "stdout",
     "output_type": "stream",
     "text": [
      "Woof!\n",
      "Meow!\n"
     ]
    }
   ],
   "source": [
    "from abc import ABC, abstractmethod\n",
    "\n",
    "class Animal():\n",
    "    @abstractmethod\n",
    "    def make_sound(self):\n",
    "        pass\n",
    "    \n",
    "class Dog(Animal):\n",
    "    def make_sound(self):\n",
    "        print(\"Woof!\")\n",
    "\n",
    "class Cat(Animal):\n",
    "    def make_sound(self):\n",
    "        print(\"Meow!\")\n",
    "\n",
    "def animal_talk(animal_object):\n",
    "    animal_object.make_sound()\n",
    "    \n",
    "my_dog = Dog()\n",
    "my_cat = Cat()\n",
    "\n",
    "animal_talk(my_dog)\n",
    "animal_talk(my_cat)\n"
   ]
  },
  {
   "cell_type": "code",
   "execution_count": 26,
   "id": "98cf201d",
   "metadata": {},
   "outputs": [
    {
     "name": "stdout",
     "output_type": "stream",
     "text": [
      "Not an Animal can't speak\n"
     ]
    }
   ],
   "source": [
    "class Fish: #This class does not inherit Animal class\n",
    "    def swim(self):\n",
    "        print(\"Swimming\")\n",
    "        \n",
    "def animal_talk2(animal_object):\n",
    "    if isinstance(animal_object, Animal): #Checking type of animal for more strictness\n",
    "        animal_object.make_sound()\n",
    "    else:\n",
    "        print(\"Not an Animal can't speak\")\n",
    "        \n",
    "my_fish = Fish()\n",
    "animal_talk2(my_fish) # Output: Not an Animal can't speak"
   ]
  },
  {
   "cell_type": "code",
   "execution_count": null,
   "id": "a5012a5e",
   "metadata": {},
   "outputs": [],
   "source": []
  }
 ],
 "metadata": {
  "kernelspec": {
   "display_name": "Python 3 (ipykernel)",
   "language": "python",
   "name": "python3"
  },
  "language_info": {
   "codemirror_mode": {
    "name": "ipython",
    "version": 3
   },
   "file_extension": ".py",
   "mimetype": "text/x-python",
   "name": "python",
   "nbconvert_exporter": "python",
   "pygments_lexer": "ipython3",
   "version": "3.10.12"
  }
 },
 "nbformat": 4,
 "nbformat_minor": 5
}
