{
 "cells": [
  {
   "cell_type": "markdown",
   "id": "edcf4305",
   "metadata": {},
   "source": [
    "    ---------------------Encapsulation in Python-----------------------\n",
    "__Encapsulation__ is one of the four fundamental principles of Object-Oriented Programming (OOP).  \n",
    "It refers to the bundling of data (attributes) and methods (functions that operate on that 1  data) that operate on that data within a single unit (a class), and restricting direct access to some of the object's components"
   ]
  },
  {
   "cell_type": "markdown",
   "id": "782c2fcb",
   "metadata": {},
   "source": [
    "    ----------------------------Key Concepts of Encapsulation:-------------------------\n",
    "\n",
    "__Bundling__: Combining data and methods that operate on that data within a class. This creates a cohesive unit that represents a specific concept or entity.\n",
    "__Information Hiding (Data Hiding)__: Restricting direct access to some of the object's internal data (attributes). This protects the data from accidental modification or misuse from outside the class"
   ]
  },
  {
   "cell_type": "markdown",
   "id": "6ad7977b",
   "metadata": {},
   "source": [
    "   --------------------------Benefits of Encapsulation:-------------------\n",
    "\n",
    "__Data Protection__: Prevents accidental modification of data from outside the class. This maintains data integrity.  \n",
    "__Code Maintainability__: Changes to the internal implementation of a class don't affect other parts of the code that use the class, as long as the public interface (methods) remains the same.  \n",
    "__Code Reusability__: Encapsulated classes can be easily reused in different parts of a program or in other projects.  \n",
    "__Abstraction__: Hides the internal complexity of an object from the outside world, providing a simplified interface for interaction."
   ]
  },
  {
   "cell_type": "markdown",
   "id": "9c6ea9d5",
   "metadata": {},
   "source": [
    "        -------------------------Encapsulation in Python:-------------\n",
    "\n",
    "Python doesn't have strict access modifiers like __private__, __protected__, and __public__ as some other languages (like Java or C++).  \n",
    "However, it achieves encapsulation through __naming conventions and properties__."
   ]
  },
  {
   "cell_type": "markdown",
   "id": "bd602d7b",
   "metadata": {},
   "source": [
    "1. __Naming Conventions (Weak Encapsulation)__:\n",
    "\n",
    "   - Single Leading Underscore **(_attribute)**: Indicates that an attribute is intended for internal use within the class and its subclasses. It's a convention, not a strict enforcement. External code can still access it, but it's a signal that it shouldn't.\n",
    "\n",
    "   - Double Leading Underscore **(__attribute)**: Triggers name mangling. Python renames the attribute to **_ClassName__attribute**, making it harder (but not impossible) to access from outside the class. This is a stronger form of encapsulation.\n",
    "\n",
    "2. **Properties (Getter and Setter Methods)**:\n",
    "\n",
    "   - Properties provide a more controlled way to access and modify attributes. They allow you to add logic (like validation or calculations) when getting or setting an attribute's value."
   ]
  },
  {
   "cell_type": "code",
   "execution_count": 69,
   "id": "ab489cef",
   "metadata": {},
   "outputs": [],
   "source": [
    "class BankAccount():\n",
    "    \n",
    "    def __init__(self, account_number, balance):\n",
    "        self._account_number = account_number  # Protected attribute (by convention)\n",
    "        self.__balance = balance               # Name mangled attribute (more strongly protected\n",
    "        \n",
    "    def deposit(self,amount):\n",
    "        if amount > 0:\n",
    "            self.__balance += amount\n",
    "        else:\n",
    "            print(\"Invalid amount.\")\n",
    "            \n",
    "            \n",
    "    def withdraw(self, amount):\n",
    "        if 0 < amount <= self.__balance:\n",
    "            self.__balance -= amount\n",
    "        else:\n",
    "            print(\"Insufficient funds or invalid withdrawal amount.\")\n",
    "            \n",
    "    \n",
    "    #Getter Method\n",
    "    def get_balance(self):\n",
    "        return self.__balance\n",
    "    \n",
    "    #Setter Method\n",
    "    def set_balance(self,amount):\n",
    "        if amount > 0:\n",
    "            self.__balance = amount\n",
    "        else:\n",
    "            print(\"Invalid amount.\")\n",
    "            \n",
    "    \n",
    "    #Using property to access getter and setter method\n",
    "    balance = property(get_balance,set_balance)"
   ]
  },
  {
   "cell_type": "code",
   "execution_count": 70,
   "id": "99555046",
   "metadata": {},
   "outputs": [],
   "source": [
    "account_object = BankAccount(\"12345678\",400)\n"
   ]
  },
  {
   "cell_type": "code",
   "execution_count": 71,
   "id": "4ee8fb19",
   "metadata": {},
   "outputs": [
    {
     "name": "stdout",
     "output_type": "stream",
     "text": [
      "12345678\n"
     ]
    }
   ],
   "source": [
    "# Accessing \"protected\" attribute (still possible, but discouraged)\n",
    "print(account_object._account_number)"
   ]
  },
  {
   "cell_type": "code",
   "execution_count": 72,
   "id": "c69a8170",
   "metadata": {},
   "outputs": [
    {
     "ename": "AttributeError",
     "evalue": "'BankAccount' object has no attribute '__balance'",
     "output_type": "error",
     "traceback": [
      "\u001b[0;31m---------------------------------------------------------------------------\u001b[0m",
      "\u001b[0;31mAttributeError\u001b[0m                            Traceback (most recent call last)",
      "\u001b[0;32m/tmp/ipykernel_504507/3345477.py\u001b[0m in \u001b[0;36m<module>\u001b[0;34m\u001b[0m\n\u001b[1;32m      1\u001b[0m \u001b[0;31m# Accessing name-mangled attribute (more difficult)\u001b[0m\u001b[0;34m\u001b[0m\u001b[0;34m\u001b[0m\u001b[0m\n\u001b[0;32m----> 2\u001b[0;31m \u001b[0mprint\u001b[0m\u001b[0;34m(\u001b[0m\u001b[0maccount_object\u001b[0m\u001b[0;34m.\u001b[0m\u001b[0m__balance\u001b[0m\u001b[0;34m)\u001b[0m \u001b[0;31m# AttributeError: 'BankAccount' object has no attribute '__balance'\u001b[0m\u001b[0;34m\u001b[0m\u001b[0;34m\u001b[0m\u001b[0m\n\u001b[0m",
      "\u001b[0;31mAttributeError\u001b[0m: 'BankAccount' object has no attribute '__balance'"
     ]
    }
   ],
   "source": [
    "# Accessing name-mangled attribute (more difficult)\n",
    "print(account_object.__balance) # AttributeError: 'BankAccount' object has no attribute '__balance'"
   ]
  },
  {
   "cell_type": "code",
   "execution_count": 73,
   "id": "b400bde2",
   "metadata": {},
   "outputs": [
    {
     "name": "stdout",
     "output_type": "stream",
     "text": [
      "400\n"
     ]
    }
   ],
   "source": [
    "#Accessing using name mangling\n",
    "print(account_object._BankAccount__balance)"
   ]
  },
  {
   "cell_type": "code",
   "execution_count": 74,
   "id": "31351383",
   "metadata": {},
   "outputs": [],
   "source": [
    "#Using property to set value\n",
    "account_object.balance = 200"
   ]
  },
  {
   "cell_type": "code",
   "execution_count": 75,
   "id": "9d7e9b06",
   "metadata": {},
   "outputs": [
    {
     "name": "stdout",
     "output_type": "stream",
     "text": [
      "200\n"
     ]
    }
   ],
   "source": [
    "#Using property to get value\n",
    "print(account_object.balance)"
   ]
  },
  {
   "cell_type": "code",
   "execution_count": 76,
   "id": "1d63863c",
   "metadata": {},
   "outputs": [
    {
     "name": "stdout",
     "output_type": "stream",
     "text": [
      "700\n"
     ]
    }
   ],
   "source": [
    "account_object.deposit(500)\n",
    "print(account_object.balance) # Output: 2500"
   ]
  },
  {
   "cell_type": "code",
   "execution_count": 77,
   "id": "9df53e0e",
   "metadata": {},
   "outputs": [
    {
     "name": "stdout",
     "output_type": "stream",
     "text": [
      "500\n",
      "500\n"
     ]
    }
   ],
   "source": [
    "account_object.withdraw(200)\n",
    "print(account_object.balance) # Output: 500\n",
    "print(account_object._BankAccount__balance) # Output: 500"
   ]
  },
  {
   "cell_type": "code",
   "execution_count": null,
   "id": "9c4a2b68",
   "metadata": {},
   "outputs": [],
   "source": []
  }
 ],
 "metadata": {
  "kernelspec": {
   "display_name": "Python 3 (ipykernel)",
   "language": "python",
   "name": "python3"
  },
  "language_info": {
   "codemirror_mode": {
    "name": "ipython",
    "version": 3
   },
   "file_extension": ".py",
   "mimetype": "text/x-python",
   "name": "python",
   "nbconvert_exporter": "python",
   "pygments_lexer": "ipython3",
   "version": "3.10.12"
  }
 },
 "nbformat": 4,
 "nbformat_minor": 5
}
