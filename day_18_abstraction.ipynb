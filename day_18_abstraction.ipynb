{
 "cells": [
  {
   "cell_type": "markdown",
   "id": "7602af55",
   "metadata": {},
   "source": [
    "        ------------------What is Abstraction-----------------\n",
    "**Abstraction** is one of the four fundamental principles of Object-Oriented Programming (OOP).  \n",
    "It focuses on hiding complex implementation details and exposing only the essential information or functionalities to the user.  \n",
    "In simpler terms, it means showing only **\"what\"** an object does, not **\"how\"** it does it."
   ]
  },
  {
   "cell_type": "markdown",
   "id": "0a10fafd",
   "metadata": {},
   "source": [
    "    ------------------------Abstraction in Python:-------------------\n",
    "\n",
    "**Python achieves abstraction through several mechanisms:**  \n",
    "\n",
    " 1. **Classes and Objects**:  \n",
    "    - Classes are a primary way to implement abstraction. \n",
    "      A class encapsulates data (attributes) and methods that operate on that data,  \n",
    "        hiding the internal representation of the data from the user.\n",
    "\n",
    " 2. **Abstract Base Classes (ABCs) and Abstract Methods**:  \n",
    "     - The abc module provides a way to define abstract base classes and abstract methods.  \n",
    "       An abstract method is a method declared in an abstract base class but without an implementation.  \n",
    "       Subclasses must provide an implementation for all abstract methods.\n",
    "\n",
    " 3. **Interfaces (Informal)**:  \n",
    "     - Python also supports informal interfaces through duck typing (if it walks like a duck and quacks like a   duck, then it must be a duck).  \n",
    "       If an object has the methods you need, you can use it regardless of its type.\n",
    "\n"
   ]
  },
  {
   "cell_type": "markdown",
   "id": "dbc02beb",
   "metadata": {},
   "source": [
    "###### 1. Using Classes for Abstraction:"
   ]
  },
  {
   "cell_type": "code",
   "execution_count": 2,
   "id": "f6f62b8f",
   "metadata": {},
   "outputs": [
    {
     "name": "stdout",
     "output_type": "stream",
     "text": [
      "Engine is doing internal process.\n",
      "Car started.\n",
      "Car is driving\n"
     ]
    }
   ],
   "source": [
    "class Car:\n",
    "    \n",
    "    def __init__(self, make, model):\n",
    "        self.make = make\n",
    "        self.model = model\n",
    "        \n",
    "    def start(self):\n",
    "        self._start_engine() #Internal method\n",
    "        print(\"Car started.\")\n",
    "    \n",
    "    def _start_engine(self):  #Internal function. We don't want the user to call it directly\n",
    "        print(\"Engine is doing internal process.\")\n",
    "        \n",
    "    def drive(self):\n",
    "        print(\"Car is driving\")\n",
    "        \n",
    "my_car = Car(\"Toyota\", \"Passo\")\n",
    "my_car.start() # User calls start()\n",
    "my_car.drive()\n",
    "\n",
    "#my_car._start_engine()  #We don't want user to call it directly. Still user can call it.\n",
    "\n",
    "    "
   ]
  },
  {
   "cell_type": "markdown",
   "id": "3ac4d98e",
   "metadata": {},
   "source": [
    "**NOTE**\n",
    "  - In this example, the user interacts with the Car object through the **start()** and **drive()** methods.  \n",
    "  The internal details of how the engine starts **(_start_engine())** are hidden from the user."
   ]
  },
  {
   "cell_type": "markdown",
   "id": "bd7d5127",
   "metadata": {},
   "source": [
    "**IMPORTANT NOTE:**\n",
    "  - Using a single underscore (_start_engine) is just a convention in Python, not a strict access control mechanism.  \n",
    "    It signals to other developers that the method is intended for internal use, but it doesn't prevent external access.\n",
    "\n",
    "  - To achieve stronger abstraction and prevent direct external access, you should use name mangling (double leading underscores __) or combine it with properties."
   ]
  },
  {
   "cell_type": "markdown",
   "id": "89e35307",
   "metadata": {},
   "source": [
    "**2. Using Abstract Base Classes (ABCs):**"
   ]
  },
  {
   "cell_type": "code",
   "execution_count": 3,
   "id": "586de21f",
   "metadata": {},
   "outputs": [],
   "source": [
    "from abc import ABC , abstractmethod\n",
    "\n",
    "class Shape(ABC):   #Abstract base class\n",
    "    \n",
    "    @abstractmethod\n",
    "    def area(self): #Abstract method\n",
    "        pass \n",
    "    \n",
    "    @abstractmethod\n",
    "    def perimeter(self):\n",
    "        pass\n",
    "    \n",
    "    \n",
    "class Circle(Shape):\n",
    "    def __init__(self, radius):\n",
    "        self.radius = radius\n",
    "        \n",
    "    def area(self):\n",
    "        return 3.141 * self.radius * self.radius\n",
    "    def perimeter(self):\n",
    "        return 2 * 3.141 * self.radius\n",
    "    \n",
    "    \n",
    "class Square(Shape):\n",
    "    def __init__(self, side):\n",
    "        self.side = side\n",
    "\n",
    "    def area(self):\n",
    "        return self.side * self.side\n",
    "\n",
    "    def perimeter(self):\n",
    "        return 4 * self.side\n",
    "    \n",
    "\n",
    "        "
   ]
  },
  {
   "cell_type": "code",
   "execution_count": 5,
   "id": "603d2673",
   "metadata": {},
   "outputs": [
    {
     "ename": "TypeError",
     "evalue": "Can't instantiate abstract class Shape with abstract methods area, perimeter",
     "output_type": "error",
     "traceback": [
      "\u001b[0;31m---------------------------------------------------------------------------\u001b[0m",
      "\u001b[0;31mTypeError\u001b[0m                                 Traceback (most recent call last)",
      "\u001b[0;32m/tmp/ipykernel_558697/1629895317.py\u001b[0m in \u001b[0;36m<module>\u001b[0;34m\u001b[0m\n\u001b[0;32m----> 1\u001b[0;31m \u001b[0mshape\u001b[0m \u001b[0;34m=\u001b[0m \u001b[0mShape\u001b[0m\u001b[0;34m(\u001b[0m\u001b[0;34m)\u001b[0m \u001b[0;31m#TypeError: Can't instantiate abstract class Shape with abstract methods area, perimeter\u001b[0m\u001b[0;34m\u001b[0m\u001b[0;34m\u001b[0m\u001b[0m\n\u001b[0m",
      "\u001b[0;31mTypeError\u001b[0m: Can't instantiate abstract class Shape with abstract methods area, perimeter"
     ]
    }
   ],
   "source": [
    "shape = Shape() #TypeError: Can't instantiate abstract class Shape with abstract methods area, perimeter"
   ]
  },
  {
   "cell_type": "code",
   "execution_count": 8,
   "id": "c6b5e808",
   "metadata": {},
   "outputs": [
    {
     "name": "stdout",
     "output_type": "stream",
     "text": [
      "78.525\n",
      "31.41\n"
     ]
    }
   ],
   "source": [
    "circle_object = Circle(5)\n",
    "square_object = Square(10)\n",
    "\n",
    "\n",
    "print(circle_object.area())\n",
    "print(circle_object.perimeter())"
   ]
  },
  {
   "cell_type": "code",
   "execution_count": 9,
   "id": "1508eed7",
   "metadata": {},
   "outputs": [
    {
     "name": "stdout",
     "output_type": "stream",
     "text": [
      "100\n",
      "40\n"
     ]
    }
   ],
   "source": [
    "print(square_object.area())\n",
    "print(square_object.perimeter())"
   ]
  },
  {
   "cell_type": "markdown",
   "id": "16a14caa",
   "metadata": {},
   "source": [
    "**IMPORTANT NOTE**\n",
    "Here, **Shape** is an abstract base class with __abstract methods area() and perimeter()__.  \n",
    "Any concrete subclass of Shape __(like Circle or Square) must implement these methods__.  \n",
    "This enforces a common interface and hides the specific implementation details of calculating area and perimeter for different shapes."
   ]
  },
  {
   "cell_type": "code",
   "execution_count": null,
   "id": "ab2f18e6",
   "metadata": {},
   "outputs": [],
   "source": []
  }
 ],
 "metadata": {
  "kernelspec": {
   "display_name": "Python 3 (ipykernel)",
   "language": "python",
   "name": "python3"
  },
  "language_info": {
   "codemirror_mode": {
    "name": "ipython",
    "version": 3
   },
   "file_extension": ".py",
   "mimetype": "text/x-python",
   "name": "python",
   "nbconvert_exporter": "python",
   "pygments_lexer": "ipython3",
   "version": "3.10.12"
  }
 },
 "nbformat": 4,
 "nbformat_minor": 5
}
