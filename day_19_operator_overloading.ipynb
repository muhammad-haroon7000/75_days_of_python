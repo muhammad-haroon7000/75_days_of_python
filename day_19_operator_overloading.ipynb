{
 "cells": [
  {
   "cell_type": "markdown",
   "id": "39ea1117",
   "metadata": {},
   "source": [
    "                -----------------Operator overloading in Python-----------------\n",
    "**Operator overloading in Python** allows you to redefine the behavior of built-in operators (like +, -, *, /, ==, <, >, etc.) for objects of your own classes.  \n",
    "This makes your classes more intuitive and allows you to use familiar syntax when working with objects."
   ]
  },
  {
   "cell_type": "markdown",
   "id": "4dc26fbc",
   "metadata": {},
   "source": [
    "            ----------------------------How it Works:----------------\n",
    "\n",
    "**Operator overloading** is achieved by defining special methods (also known as **\"magic methods\"** or **\"dunder methods\"** because of the double underscores) in your class.  \n",
    "When you use an operator with objects of your class, Python automatically calls the corresponding special method."
   ]
  },
  {
   "cell_type": "markdown",
   "id": "0b7db062",
   "metadata": {},
   "source": [
    "##### Common Operator Overloading Methods:"
   ]
  },
  {
   "cell_type": "markdown",
   "id": "b4e65a42",
   "metadata": {},
   "source": [
    "1. **Arithmetic Operators:**\n",
    "\n",
    "- __add__(self, other): Addition (+)  \n",
    "- __sub__(self, other): Subtraction (-)  \n",
    "- __mul__(self, other): Multiplication (*)  \n",
    "- __truediv__(self, other): True division (/)  \n",
    "- __floordiv__(self, other): Floor division (//)  \n",
    "- __mod__(self, other): Modulo (%)  \n",
    "- __pow__(self, other): Exponentiation (**)  "
   ]
  },
  {
   "cell_type": "markdown",
   "id": "f75ba227",
   "metadata": {},
   "source": [
    "2. **Comparison Operators:**\n",
    "\n",
    "- __eq__(self, other): Equality (==)  \n",
    "- __ne__(self, other): Inequality (!=)  \n",
    "- __lt__(self, other): Less than (<)  \n",
    "- __gt__(self, other): Greater than (>)  \n",
    "- __le__(self, other): Less than or equal to (<=)  \n",
    "- __ge__(self, other): Greater than or equal to (>=  "
   ]
  },
  {
   "cell_type": "markdown",
   "id": "60a98223",
   "metadata": {},
   "source": [
    "3. **Other Operators:**\n",
    "\n",
    "- __str__(self): String representation (called by str() and print())  \n",
    "- __repr__(self): String representation for debugging (called by repr())  \n",
    "- __len__(self): Length (called by len())  \n",
    "- __getitem__(self, key): Item access (object[key])  \n",
    "- __setitem__(self, key, value): Item assignment (object[key] = value)  \n",
    "- __delitem__(self, key): Item deletion (del object[key])"
   ]
  },
  {
   "cell_type": "code",
   "execution_count": 7,
   "id": "2c6c70e7",
   "metadata": {},
   "outputs": [
    {
     "name": "stdout",
     "output_type": "stream",
     "text": [
      "(2, 4)\n",
      "(3, 4)\n",
      "(5, 8)\n"
     ]
    },
    {
     "ename": "TypeError",
     "evalue": "Can only add two vectores",
     "output_type": "error",
     "traceback": [
      "\u001b[0;31m---------------------------------------------------------------------------\u001b[0m",
      "\u001b[0;31mTypeError\u001b[0m                                 Traceback (most recent call last)",
      "\u001b[0;32m/tmp/ipykernel_636845/3154249569.py\u001b[0m in \u001b[0;36m<module>\u001b[0;34m\u001b[0m\n\u001b[1;32m     22\u001b[0m \u001b[0mprint\u001b[0m\u001b[0;34m(\u001b[0m\u001b[0mv3\u001b[0m\u001b[0;34m)\u001b[0m\u001b[0;34m\u001b[0m\u001b[0;34m\u001b[0m\u001b[0m\n\u001b[1;32m     23\u001b[0m \u001b[0;34m\u001b[0m\u001b[0m\n\u001b[0;32m---> 24\u001b[0;31m \u001b[0mv4\u001b[0m \u001b[0;34m=\u001b[0m \u001b[0mv1\u001b[0m \u001b[0;34m+\u001b[0m \u001b[0;36m5\u001b[0m \u001b[0;31m#TypeError: Can only add two vectores\u001b[0m\u001b[0;34m\u001b[0m\u001b[0;34m\u001b[0m\u001b[0m\n\u001b[0m",
      "\u001b[0;32m/tmp/ipykernel_636845/3154249569.py\u001b[0m in \u001b[0;36m__add__\u001b[0;34m(self, other)\u001b[0m\n\u001b[1;32m      9\u001b[0m             \u001b[0;32mreturn\u001b[0m \u001b[0mVector\u001b[0m\u001b[0;34m(\u001b[0m\u001b[0mself\u001b[0m\u001b[0;34m.\u001b[0m\u001b[0mx\u001b[0m \u001b[0;34m+\u001b[0m \u001b[0mother\u001b[0m\u001b[0;34m.\u001b[0m\u001b[0mx\u001b[0m\u001b[0;34m,\u001b[0m \u001b[0mself\u001b[0m\u001b[0;34m.\u001b[0m\u001b[0my\u001b[0m \u001b[0;34m+\u001b[0m \u001b[0mother\u001b[0m\u001b[0;34m.\u001b[0m\u001b[0my\u001b[0m\u001b[0;34m)\u001b[0m\u001b[0;34m\u001b[0m\u001b[0;34m\u001b[0m\u001b[0m\n\u001b[1;32m     10\u001b[0m         \u001b[0;32melse\u001b[0m\u001b[0;34m:\u001b[0m\u001b[0;34m\u001b[0m\u001b[0;34m\u001b[0m\u001b[0m\n\u001b[0;32m---> 11\u001b[0;31m             \u001b[0;32mraise\u001b[0m \u001b[0mTypeError\u001b[0m \u001b[0;34m(\u001b[0m\u001b[0;34m\"Can only add two vectores\"\u001b[0m\u001b[0;34m)\u001b[0m\u001b[0;34m\u001b[0m\u001b[0;34m\u001b[0m\u001b[0m\n\u001b[0m\u001b[1;32m     12\u001b[0m \u001b[0;34m\u001b[0m\u001b[0m\n\u001b[1;32m     13\u001b[0m     \u001b[0;32mdef\u001b[0m \u001b[0m__str__\u001b[0m\u001b[0;34m(\u001b[0m\u001b[0mself\u001b[0m\u001b[0;34m)\u001b[0m\u001b[0;34m:\u001b[0m\u001b[0;34m\u001b[0m\u001b[0;34m\u001b[0m\u001b[0m\n",
      "\u001b[0;31mTypeError\u001b[0m: Can only add two vectores"
     ]
    }
   ],
   "source": [
    "class Vector:\n",
    "    \n",
    "    def __init__(self,x,y):\n",
    "        self.x = x\n",
    "        self.y = y\n",
    "        \n",
    "    def __add__(self,other):\n",
    "        if isinstance(other, Vector):\n",
    "            return Vector(self.x + other.x, self.y + other.y)\n",
    "        else:\n",
    "            raise TypeError (\"Can only add two vectores\")\n",
    "            \n",
    "    def __str__(self):\n",
    "        return f\"({self.x}, {self.y})\"\n",
    "    \n",
    "\n",
    "v1 = Vector(2,4)\n",
    "print(v1)\n",
    "v2 = Vector(3,4)\n",
    "print(v2)\n",
    "v3 = v1 + v2 # Calls v1.__add__(v2)\n",
    "print(v3)\n",
    "\n",
    "v4 = v1 + 5 #TypeError: Can only add two vectores"
   ]
  },
  {
   "cell_type": "code",
   "execution_count": 8,
   "id": "310ae57c",
   "metadata": {},
   "outputs": [
    {
     "name": "stdout",
     "output_type": "stream",
     "text": [
      "True\n",
      "False\n",
      "True\n",
      "False\n"
     ]
    }
   ],
   "source": [
    "class Point:\n",
    "    def __init__(self, x, y):\n",
    "        self.x = x\n",
    "        self.y = y\n",
    "\n",
    "    def __eq__(self, other):\n",
    "        if isinstance(other, Point):\n",
    "            return self.x == other.x and self.y == other.y\n",
    "        return False\n",
    "\n",
    "    def __lt__(self, other):\n",
    "        if isinstance(other, Point):\n",
    "            return (self.x**2 + self.y**2)**0.5 < (other.x**2 + other.y**2)**0.5\n",
    "        return NotImplemented # Important for other comparison operations to work\n",
    "\n",
    "p1 = Point(1, 2)\n",
    "p2 = Point(1, 2)\n",
    "p3 = Point(3, 4)\n",
    "\n",
    "print(p1 == p2)  # Output: True\n",
    "print(p1 == p3)  # Output: False\n",
    "print(p1 < p3)  # Output: True\n",
    "print(p3 < p1) #Output: False"
   ]
  },
  {
   "attachments": {
    "image.png": {
     "image/png": "[encoded data removed]"
    }
   },
   "cell_type": "markdown",
   "id": "fbae8789",
   "metadata": {},
   "source": [
    "![image.png](attachment:image.png)"
   ]
  },
  {
   "cell_type": "markdown",
   "id": "34149b33",
   "metadata": {},
   "source": [
    "The distances from the origin are calculated as follows:\n",
    "\n",
    "p1: sqrt(1^2 + 2^2) = sqrt(5) ≈ 2.24\n",
    "p2: sqrt(1^2 + 2^2) = sqrt(5) ≈ 2.24\n",
    "p3: sqrt(3^2 + 4^2) = sqrt(25) = 5\n",
    "The comparison p1 < p3 evaluates to True because the distance of p1 from the origin (2.24) is less than the distance of p3 from the origin (5).\n",
    "\n",
    "The comparison p1 == p2 evaluates to True because the coordinates of p1 (1, 2) are the same as the coordinates of p2 (1, 2)."
   ]
  },
  {
   "cell_type": "code",
   "execution_count": null,
   "id": "626da049",
   "metadata": {},
   "outputs": [],
   "source": []
  }
 ],
 "metadata": {
  "kernelspec": {
   "display_name": "Python 3 (ipykernel)",
   "language": "python",
   "name": "python3"
  },
  "language_info": {
   "codemirror_mode": {
    "name": "ipython",
    "version": 3
   },
   "file_extension": ".py",
   "mimetype": "text/x-python",
   "name": "python",
   "nbconvert_exporter": "python",
   "pygments_lexer": "ipython3",
   "version": "3.10.12"
  }
 },
 "nbformat": 4,
 "nbformat_minor": 5
}
