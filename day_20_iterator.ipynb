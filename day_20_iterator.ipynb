{
 "cells": [
  {
   "cell_type": "markdown",
   "id": "5ad12983",
   "metadata": {},
   "source": [
    "        -------------------------What is an Iterator?---------\n",
    "\n",
    "**An iterator** is an object that represents a stream of data.   \n",
    "It allows you to traverse through a sequence of values one at a time, without needing to load the entire sequence into memory at once.  \n",
    "Iterators implement two main methods:\n",
    "- **__iter__()**: Returns the iterator object itself. This is called when you use iter() on an object.  \n",
    "- **__next__()**: Returns the next item in the sequence. When there are no more items, it raises a StopIteration exception."
   ]
  },
  {
   "cell_type": "code",
   "execution_count": 4,
   "id": "be7f8ad3",
   "metadata": {},
   "outputs": [
    {
     "name": "stdout",
     "output_type": "stream",
     "text": [
      "1\n",
      "2\n",
      "3\n"
     ]
    },
    {
     "ename": "StopIteration",
     "evalue": "",
     "output_type": "error",
     "traceback": [
      "\u001b[0;31m---------------------------------------------------------------------------\u001b[0m",
      "\u001b[0;31mStopIteration\u001b[0m                             Traceback (most recent call last)",
      "\u001b[0;32m/tmp/ipykernel_960772/1136585969.py\u001b[0m in \u001b[0;36m<module>\u001b[0;34m\u001b[0m\n\u001b[1;32m      8\u001b[0m \u001b[0mprint\u001b[0m\u001b[0;34m(\u001b[0m\u001b[0mnext\u001b[0m\u001b[0;34m(\u001b[0m\u001b[0miterator\u001b[0m\u001b[0;34m)\u001b[0m\u001b[0;34m)\u001b[0m\u001b[0;34m\u001b[0m\u001b[0;34m\u001b[0m\u001b[0m\n\u001b[1;32m      9\u001b[0m \u001b[0;34m\u001b[0m\u001b[0m\n\u001b[0;32m---> 10\u001b[0;31m \u001b[0mprint\u001b[0m\u001b[0;34m(\u001b[0m\u001b[0mnext\u001b[0m\u001b[0;34m(\u001b[0m\u001b[0miterator\u001b[0m\u001b[0;34m)\u001b[0m\u001b[0;34m)\u001b[0m\u001b[0;31m# Trying to get the next item after the end raises StopIteration\u001b[0m\u001b[0;34m\u001b[0m\u001b[0;34m\u001b[0m\u001b[0m\n\u001b[0m",
      "\u001b[0;31mStopIteration\u001b[0m: "
     ]
    }
   ],
   "source": [
    "my_list = [1, 2, 3]\n",
    "\n",
    "# Get an iterator from the list\n",
    "iterator = iter(my_list)\n",
    "\n",
    "print(next(iterator))\n",
    "print(next(iterator))\n",
    "print(next(iterator))\n",
    "\n",
    "print(next(iterator))# Trying to get the next item after the end raises StopIteration\n"
   ]
  },
  {
   "cell_type": "code",
   "execution_count": 12,
   "id": "b532c63b",
   "metadata": {},
   "outputs": [
    {
     "name": "stdout",
     "output_type": "stream",
     "text": [
      "1\n",
      "2\n",
      "3\n",
      "4\n",
      "5\n",
      "6\n",
      "End of iteration\n"
     ]
    }
   ],
   "source": [
    "my_list = [1,2,3,4,5,6]\n",
    "iterator = iter(my_list)\n",
    "try:\n",
    "    print(next(iterator))  # Raises StopIteration\n",
    "    print(next(iterator)) \n",
    "    print(next(iterator)) \n",
    "    print(next(iterator)) \n",
    "    print(next(iterator)) \n",
    "    print(next(iterator)) \n",
    "    print(next(iterator)) \n",
    "except StopIteration:\n",
    "    print(\"End of iteration\")"
   ]
  },
  {
   "cell_type": "markdown",
   "id": "bc4022cd",
   "metadata": {},
   "source": [
    "    ------------------------Why Do We Need Iterators?------------\n",
    "\n",
    "**Memory Efficiency**:  \n",
    "  - Iterators are extremely memory-efficient, especially when dealing with large datasets or infinite sequences.   \n",
    "    They only generate values on demand, so you don't need to store the entire sequence in memory.\n",
    "**Working with Streams**:  \n",
    "  - Iterators are well-suited for working with data streams or data that is generated on the fly.  \n",
    "**Custom Iteration**:\n",
    " - Iterators allow you to define custom iteration behavior for your own objects.\n"
   ]
  },
  {
   "cell_type": "code",
   "execution_count": null,
   "id": "d0443c76",
   "metadata": {},
   "outputs": [],
   "source": []
  }
 ],
 "metadata": {
  "kernelspec": {
   "display_name": "Python 3 (ipykernel)",
   "language": "python",
   "name": "python3"
  },
  "language_info": {
   "codemirror_mode": {
    "name": "ipython",
    "version": 3
   },
   "file_extension": ".py",
   "mimetype": "text/x-python",
   "name": "python",
   "nbconvert_exporter": "python",
   "pygments_lexer": "ipython3",
   "version": "3.10.12"
  }
 },
 "nbformat": 4,
 "nbformat_minor": 5
}
