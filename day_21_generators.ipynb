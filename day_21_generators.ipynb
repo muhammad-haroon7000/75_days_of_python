{
 "cells": [
  {
   "cell_type": "markdown",
   "id": "1df165c8",
   "metadata": {},
   "source": [
    "            -------------------Generators in Python---------------------\n",
    "In Python, **generators** are a special type of function that returns an iterator. Instead of returning a single value, they use the **yield** keyword to produce a sequence of values on-the-fly."
   ]
  },
  {
   "cell_type": "markdown",
   "id": "eaf45882",
   "metadata": {},
   "source": [
    "**Key Characteristics of Generators:**  \n",
    "\n",
    "**Memory Efficiency**: Generators don't generate all the values at once. They produce values one at a time as they are requested, making them highly memory-efficient, especially when dealing with large datasets.  \n",
    "**Lazy Evaluation**: Values are generated only when they are needed, saving computational resources.  \n",
    "**Concise Syntax**: Generators often result in more concise and readable code compared to manually creating an iterator class."
   ]
  },
  {
   "cell_type": "markdown",
   "id": "ff031d9a",
   "metadata": {},
   "source": [
    "**How Generators Work:**  \n",
    "\n",
    "**yield Keyword**: The yield keyword is used within a generator function to return a value and temporarily suspend the function's execution.  \n",
    "**State Preservation**: When the generator function resumes, it continues from where it left off, preserving its internal state."
   ]
  },
  {
   "cell_type": "code",
   "execution_count": 1,
   "id": "bd1745d6",
   "metadata": {},
   "outputs": [
    {
     "name": "stdout",
     "output_type": "stream",
     "text": [
      "<generator object generator at 0x70198ad7a570>\n"
     ]
    }
   ],
   "source": [
    "def generator(n):\n",
    "    for i in range(1, n+1):\n",
    "        yield i\n",
    "        \n",
    "        \n",
    "# getting the object address\n",
    "\n",
    "generator_object = generator(10)\n",
    "print(generator_object)"
   ]
  },
  {
   "cell_type": "code",
   "execution_count": 3,
   "id": "0b4f1a0c",
   "metadata": {},
   "outputs": [
    {
     "name": "stdout",
     "output_type": "stream",
     "text": [
      "1\n",
      "2\n",
      "3\n",
      "4\n",
      "5\n",
      "6\n",
      "7\n",
      "8\n",
      "9\n",
      "10\n"
     ]
    }
   ],
   "source": [
    "# printing directly the values return from the function \n",
    "\n",
    "\n",
    "for value in generator(10):\n",
    "    print(value)"
   ]
  },
  {
   "cell_type": "markdown",
   "id": "ef6839dc",
   "metadata": {},
   "source": [
    "    --------------------Use Cases of Generators:------------\n",
    "\n",
    "**Infinite Sequences**: Generating infinite sequences like Fibonacci numbers or prime numbers.  \n",
    "**Reading Large Files**: Processing large files line by line without loading the entire file into memory.  \n",
    "**Data Pipelines**: Creating data pipelines where data is processed in stages, with each stage generating the input for the next stage.  \n",
    "**Concise Code**: Writing more concise and readable code for tasks that involve producing a sequence of values."
   ]
  },
  {
   "cell_type": "code",
   "execution_count": null,
   "id": "505e1350",
   "metadata": {},
   "outputs": [],
   "source": [
    "def read_large_file(filename):\n",
    "    with open(filename, 'r') as file:\n",
    "        for line in file:\n",
    "            yield line.strip()\n",
    "\n",
    "for line in read_large_file(\"large_file.txt\"):\n",
    "    # Process each line\n",
    "    print(line) "
   ]
  },
  {
   "cell_type": "code",
   "execution_count": null,
   "id": "9feaa871",
   "metadata": {},
   "outputs": [],
   "source": []
  }
 ],
 "metadata": {
  "kernelspec": {
   "display_name": "Python 3 (ipykernel)",
   "language": "python",
   "name": "python3"
  },
  "language_info": {
   "codemirror_mode": {
    "name": "ipython",
    "version": 3
   },
   "file_extension": ".py",
   "mimetype": "text/x-python",
   "name": "python",
   "nbconvert_exporter": "python",
   "pygments_lexer": "ipython3",
   "version": "3.10.12"
  }
 },
 "nbformat": 4,
 "nbformat_minor": 5
}
